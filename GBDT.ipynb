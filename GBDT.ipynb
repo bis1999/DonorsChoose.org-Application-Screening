{
 "cells": [
  {
   "cell_type": "markdown",
   "metadata": {
    "colab_type": "text",
    "id": "8wqapAXjsc24"
   },
   "source": [
    "## Objectives "
   ]
  },
  {
   "cell_type": "code",
   "execution_count": 1,
   "metadata": {},
   "outputs": [],
   "source": [
    "%matplotlib inline\n",
    "import warnings\n",
    "warnings.filterwarnings(\"ignore\")\n",
    "\n",
    "import pandas as pd\n",
    "import numpy as np\n",
    "import nltk\n",
    "import matplotlib.pyplot as plt\n",
    "import seaborn as sns\n",
    "from sklearn.feature_extraction.text import TfidfVectorizer\n",
    "from sklearn.feature_extraction.text import CountVectorizer\n",
    "from sklearn.metrics import confusion_matrix\n",
    "from sklearn import metrics\n",
    "from sklearn.metrics import roc_curve, auc\n",
    "from sklearn.preprocessing import Normalizer\n",
    "from scipy.sparse import hstack\n",
    "\n",
    "import re\n",
    "# Tutorial about Python regular expressions: https://pymotw.com/2/re/\n",
    "\n",
    "import pickle\n",
    "from tqdm import tqdm\n",
    "import os\n",
    "\n",
    "#from plotly import plotly\n",
    "#import plotly.offline as offline\n",
    "#import plotly.graph_objs as go\n",
    "#offline.init_notebook_mode()\n",
    "#from collections import Counter"
   ]
  },
  {
   "cell_type": "markdown",
   "metadata": {
    "colab_type": "text",
    "id": "3KwfGufDsc3D"
   },
   "source": [
    "<ol>\n",
    "    <li><strong>Apply GBDT on these feature sets</strong>\n",
    "        <ul>\n",
    "            <li><font color='red'>Set 1</font>: categorical(instead of one hot encoding, try <a href='https://www.appliedaicourse.com/course/applied-ai-course-online/lessons/handling-categorical-and-numerical-features/'>response coding</a>: use probability values), numerical features + project_title(TFIDF)+  preprocessed_eassay (TFIDF)+sentiment Score of eassay(check the bellow example, include all 4 values as 4 features)</li>\n",
    "            <li><font color='red'>Set 2</font>: categorical(instead of one hot encoding, try <a href='https://www.appliedaicourse.com/course/applied-ai-course-online/lessons/handling-categorical-and-numerical-features/'>response coding</a>: use probability values), numerical features + project_title(TFIDF W2V)+  preprocessed_eassay (TFIDF W2V)</li>        </ul>\n",
    "    </li>\n",
    "    <li><strong>The hyper paramter tuning (Consider any two hyper parameters)</strong>\n",
    "        <ul>\n",
    "    <li>Find the best hyper parameter which will give the maximum <a href='https://www.appliedaicourse.com/course/applied-ai-course-online/lessons/receiver-operating-characteristic-curve-roc-curve-and-auc-1/'>AUC</a> value</li>\n",
    "    <li>find the best hyper paramter using k-fold cross validation/simple cross validation data</li>\n",
    "    <li>use gridsearch cv or randomsearch cv or you can write your own for loops to do this task</li>\n",
    "        </ul>\n",
    "    "
   ]
  },
  {
   "cell_type": "code",
   "execution_count": 2,
   "metadata": {
    "colab": {},
    "colab_type": "code",
    "id": "iffa2_WGsc3H",
    "outputId": "151fc2d5-3bc1-4206-9bd2-000dbf662b31"
   },
   "outputs": [
    {
     "name": "stdout",
     "output_type": "stream",
     "text": [
      "compound: 0.9975, pos: 0.245, neu: 0.745, neg: 0.01, "
     ]
    }
   ],
   "source": [
    "import nltk\n",
    "from nltk.sentiment.vader import SentimentIntensityAnalyzer\n",
    "\n",
    "# import nltk\n",
    "# nltk.download('vader_lexicon')\n",
    "\n",
    "sid = SentimentIntensityAnalyzer()\n",
    "\n",
    "for_sentiment = 'a person is a person no matter how small dr seuss i teach the smallest students with the biggest enthusiasm \\\n",
    "for learning my students learn in many different ways using all of our senses and multiple intelligences i use a wide range\\\n",
    "of techniques to help all my students succeed students in my class come from a variety of different backgrounds which makes\\\n",
    "for wonderful sharing of experiences and cultures including native americans our school is a caring community of successful \\\n",
    "learners which can be seen through collaborative student project based learning in and out of the classroom kindergarteners \\\n",
    "in my class love to work with hands on materials and have many different opportunities to practice a skill before it is\\\n",
    "mastered having the social skills to work cooperatively with friends is a crucial aspect of the kindergarten curriculum\\\n",
    "montana is the perfect place to learn about agriculture and nutrition my students love to role play in our pretend kitchen\\\n",
    "in the early childhood classroom i have had several kids ask me can we try cooking with real food i will take their idea \\\n",
    "and create common core cooking lessons where we learn important math and writing concepts while cooking delicious healthy \\\n",
    "food for snack time my students will have a grounded appreciation for the work that went into making the food and knowledge \\\n",
    "of where the ingredients came from as well as how it is healthy for their bodies this project would expand our learning of \\\n",
    "nutrition and agricultural cooking recipes by having us peel our own apples to make homemade applesauce make our own bread \\\n",
    "and mix up healthy plants from our classroom garden in the spring we will also create our own cookbooks to be printed and \\\n",
    "shared with families students will gain math and literature skills as well as a life long enjoyment for healthy cooking \\\n",
    "nannan'\n",
    "ss = sid.polarity_scores(for_sentiment)\n",
    "\n",
    "for k in ss:\n",
    "    print('{0}: {1}, '.format(k, ss[k]), end='')\n",
    "\n",
    "# we can use these 4 things as features/attributes (neg, neu, pos, compound)\n",
    "# neg: 0.0, neu: 0.753, pos: 0.247, compound: 0.93"
   ]
  },
  {
   "cell_type": "markdown",
   "metadata": {},
   "source": [
    "### Sentiment Analysis features"
   ]
  },
  {
   "cell_type": "markdown",
   "metadata": {
    "colab_type": "text",
    "id": "BOyTl7oKsc3W"
   },
   "source": [
    "<h1>1. GBDT (xgboost/lightgbm) </h1>"
   ]
  },
  {
   "cell_type": "markdown",
   "metadata": {
    "colab_type": "text",
    "id": "VWge-b2Zsc3Z"
   },
   "source": [
    "## 1.1 Loading Data"
   ]
  },
  {
   "cell_type": "code",
   "execution_count": 3,
   "metadata": {
    "colab": {},
    "colab_type": "code",
    "id": "WDZFu6-usc3d"
   },
   "outputs": [],
   "source": [
    "import pandas\n",
    "data = pandas.read_csv('preprocessed_data.csv')"
   ]
  },
  {
   "cell_type": "code",
   "execution_count": 4,
   "metadata": {},
   "outputs": [],
   "source": [
    "y = data[\"project_is_approved\"].values\n",
    "X = data.drop([\"project_is_approved\"],axis=1)"
   ]
  },
  {
   "cell_type": "markdown",
   "metadata": {
    "colab_type": "text",
    "id": "6lAMFKFcsc3j"
   },
   "source": [
    "<h2>1.2 Splitting data into Train and cross validation(or test): Stratified Sampling</h2>"
   ]
  },
  {
   "cell_type": "code",
   "execution_count": 5,
   "metadata": {
    "colab": {},
    "colab_type": "code",
    "id": "ODMijuuNsc3l"
   },
   "outputs": [],
   "source": [
    "# please write all the code with proper documentation, and proper titles for each subsection\n",
    "# go through documentations and blogs before you start coding\n",
    "# first figure out what to do, and then think about how to do.\n",
    "# reading and understanding error messages will be very much helpfull in debugging your code\n",
    "# when you plot any graph make sure you use \n",
    "    # a. Title, that describes your plot, this will be very helpful to the reader\n",
    "    # b. Legends if needed\n",
    "    # c. X-axis label\n",
    "    # d. Y-axis label\n",
    "from sklearn.model_selection import train_test_split\n",
    "X_train, X_test, y_train, y_test = train_test_split(X, y, test_size=0.33, stratify=y)\n"
   ]
  },
  {
   "cell_type": "code",
   "execution_count": 6,
   "metadata": {},
   "outputs": [],
   "source": [
    "senti_dict  = dict(X_train[\"essay\"].apply(sid.polarity_scores)) # making a dictionary of all the features\n",
    "senti_dict_test = dict(X_test[\"essay\"].apply(sid.polarity_scores))\n",
    "senti_array_train = np.array(pd.DataFrame.from_dict(senti_dict).T) # converting the dictionary into array \n",
    "senti_array_test = np.array(pd.DataFrame.from_dict(senti_dict_test).T)"
   ]
  },
  {
   "cell_type": "markdown",
   "metadata": {
    "colab_type": "text",
    "id": "vsALgl5Asc3u"
   },
   "source": [
    "<h2>1.3 Make Data Model Ready: encoding eassay, and project_title</h2>"
   ]
  },
  {
   "cell_type": "code",
   "execution_count": 0,
   "metadata": {
    "colab": {},
    "colab_type": "code",
    "id": "1A_85jbWsc3v"
   },
   "outputs": [],
   "source": [
    "# please write all the code with proper documentation, and proper titles for each subsection\n",
    "# go through documentations and blogs before you start coding\n",
    "# first figure out what to do, and then think about how to do.\n",
    "# reading and understanding error messages will be very much helpfull in debugging your code\n",
    "# make sure you featurize train and test data separatly\n",
    "\n",
    "# when you plot any graph make sure you use \n",
    "    # a. Title, that describes your plot, this will be very helpful to the reader\n",
    "    # b. Legends if needed\n",
    "    # c. X-axis label\n",
    "    # d. Y-axis label\n"
   ]
  },
  {
   "cell_type": "markdown",
   "metadata": {},
   "source": [
    "## TFIDF"
   ]
  },
  {
   "cell_type": "code",
   "execution_count": null,
   "metadata": {},
   "outputs": [
    {
     "name": "stdout",
     "output_type": "stream",
     "text": [
      "(73196, 8) (73196,)\n",
      "(36052, 8) (36052,)\n"
     ]
    }
   ],
   "source": [
    "print(X_train.shape,y_train.shape)\n",
    "print(X_test.shape,y_test.shape)\n",
    "\n",
    "idf_vectorizer = TfidfVectorizer(ngram_range=(1,4),min_df=10,max_features=5000)\n",
    "idf_vectorizer.fit(X_train[\"essay\"].values)\n",
    "\n",
    "X_train_essay_tfidf = idf_vectorizer.transform(X_train[\"essay\"].values)\n",
    "X_test_essay_tfidf = idf_vectorizer.transform(X_test[\"essay\"].values)\n",
    "\n",
    "print(\"After vectorizer\")\n",
    "print(X_train_essay_tfidf.shape,y_train.shape)\n",
    "\n",
    "print(X_test_essay_tfidf.shape,y_test.shape)\n"
   ]
  },
  {
   "cell_type": "markdown",
   "metadata": {},
   "source": [
    "### TF-IDF W2v"
   ]
  },
  {
   "cell_type": "code",
   "execution_count": 111,
   "metadata": {},
   "outputs": [],
   "source": [
    "with open('glove_vectors', 'rb') as f:\n",
    "    model = pickle.load(f)\n",
    "    glove_words =  set(model.keys())"
   ]
  },
  {
   "cell_type": "code",
   "execution_count": 112,
   "metadata": {},
   "outputs": [],
   "source": [
    "tfidf_model = TfidfVectorizer()\n",
    "tfidf_model.fit(X_train[\"essay\"])\n",
    "# we are converting a dictionary with word as a key, and the idf as a value\n",
    "dictionary = dict(zip(tfidf_model.get_feature_names(), list(tfidf_model.idf_)))\n",
    "tfidf_words = set(tfidf_model.get_feature_names())"
   ]
  },
  {
   "cell_type": "code",
   "execution_count": 113,
   "metadata": {},
   "outputs": [
    {
     "name": "stderr",
     "output_type": "stream",
     "text": [
      "100%|██████████| 73196/73196 [02:42<00:00, 451.75it/s]"
     ]
    },
    {
     "name": "stdout",
     "output_type": "stream",
     "text": [
      "73196\n",
      "300\n"
     ]
    },
    {
     "name": "stderr",
     "output_type": "stream",
     "text": [
      "\n"
     ]
    }
   ],
   "source": [
    "# compute average word2vec for each review.\n",
    "train_tfidf_w2v_essays = []; # the avg-w2v for each sentence/review is stored in this list\n",
    "for sentence in tqdm(X_train['essay']): # for each review/sentence\n",
    "    vector = np.zeros(300) # as word vectors are of zero length\n",
    "    tf_idf_weight =0; # num of words with a valid vector in the sentence/review\n",
    "    for word in sentence.split(): # for each word in a review/sentence\n",
    "        if (word in glove_words) and (word in tfidf_words):\n",
    "            vec = model[word] # getting the vector for each word\n",
    "            # here we are multiplying idf value(dictionary[word]) and the tf value((sentence.count(word)/len(sentence.split())))\n",
    "            tf_idf = dictionary[word]*(sentence.count(word)/len(sentence.split())) # getting the tfidf value for each word\n",
    "            vector += (vec * tf_idf) # calculating tfidf weighted w2v\n",
    "            tf_idf_weight += tf_idf\n",
    "    if tf_idf_weight != 0:\n",
    "        vector /= tf_idf_weight\n",
    "    train_tfidf_w2v_essays.append(vector)\n",
    "\n",
    "print(len(train_tfidf_w2v_essays))\n",
    "print(len(train_tfidf_w2v_essays[0]))"
   ]
  },
  {
   "cell_type": "code",
   "execution_count": 114,
   "metadata": {},
   "outputs": [
    {
     "name": "stderr",
     "output_type": "stream",
     "text": [
      "100%|██████████| 36052/36052 [01:17<00:00, 464.67it/s]"
     ]
    },
    {
     "name": "stdout",
     "output_type": "stream",
     "text": [
      "36052\n",
      "300\n"
     ]
    },
    {
     "name": "stderr",
     "output_type": "stream",
     "text": [
      "\n"
     ]
    }
   ],
   "source": [
    "test_tfidf_w2v_essays = []; # the avg-w2v for each sentence/review is stored in this list\n",
    "for sentence in tqdm(X_test['essay']): # for each review/sentence\n",
    "    vector = np.zeros(300) # as word vectors are of zero length\n",
    "    tf_idf_weight =0; # num of words with a valid vector in the sentence/review\n",
    "    for word in sentence.split(): # for each word in a review/sentence\n",
    "        if (word in glove_words) and (word in tfidf_words):\n",
    "            vec = model[word] # getting the vector for each word\n",
    "            # here we are multiplying idf value(dictionary[word]) and the tf value((sentence.count(word)/len(sentence.split())))\n",
    "            tf_idf = dictionary[word]*(sentence.count(word)/len(sentence.split())) # getting the tfidf value for each word\n",
    "            vector += (vec * tf_idf) # calculating tfidf weighted w2v\n",
    "            tf_idf_weight += tf_idf\n",
    "    if tf_idf_weight != 0:\n",
    "        vector /= tf_idf_weight\n",
    "    test_tfidf_w2v_essays.append(vector)\n",
    "\n",
    "print(len(test_tfidf_w2v_essays))\n",
    "print(len(test_tfidf_w2v_essays[0]))"
   ]
  },
  {
   "cell_type": "code",
   "execution_count": 115,
   "metadata": {},
   "outputs": [],
   "source": [
    "train_tfidf_w2v_essays_arr = np.array(train_tfidf_w2v_essays)\n",
    "test_tfidf_w2v_essays_arr = np.array(test_tfidf_w2v_essays)"
   ]
  },
  {
   "cell_type": "markdown",
   "metadata": {
    "colab_type": "text",
    "id": "S3Vxxv2Hsc31"
   },
   "source": [
    "<h2>1.4 Make Data Model Ready: encoding numerical, categorical features</h2>"
   ]
  },
  {
   "cell_type": "markdown",
   "metadata": {},
   "source": [
    "### Categorical Features : Response Coding "
   ]
  },
  {
   "cell_type": "code",
   "execution_count": 7,
   "metadata": {},
   "outputs": [],
   "source": [
    "col_list  =['school_state', 'teacher_prefix', 'project_grade_category', 'clean_categories','clean_subcategories']\n",
    "def response_fit(X_tr,y_tr,col):\n",
    "   \n",
    "    col_0_dict = dict(X_tr[y_tr== 0].groupby(col).size() / X_tr.groupby(col).size())\n",
    "    col_1_dict = dict(X_tr[y_tr == 1].groupby(col).size() / X_tr.groupby(col).size())\n",
    "    \n",
    "    return col_0_dict,col_1_dict\n",
    "\n",
    "def response_transform(data,col,dict_0,dict_1):\n",
    "    col_0 = data[col].map(dict_0).fillna(0.5)\n",
    "    col_1 = data[col].map(dict_1).fillna(0.5)\n",
    "    \n",
    "    return col_0,col_1\n",
    "\n",
    "\n",
    "def transform_feat(data):\n",
    "        cat_feature = pd.DataFrame()\n",
    "        for i in col_list : \n",
    "            dict_0,dict_1 = response_fit(X_train,y_train,i) # Fitting is always on train data \n",
    "            cat_feature[i+\"_0\"],cat_feature[i+\"_1\"]= response_transform(data,i,dict_0,dict_1)\n",
    "        return cat_feature\n",
    "\n"
   ]
  },
  {
   "cell_type": "code",
   "execution_count": 8,
   "metadata": {},
   "outputs": [],
   "source": [
    "X_train_catf = np.array(transform_feat(X_train))\n",
    "X_test_catf = np.array(transform_feat(X_test))"
   ]
  },
  {
   "cell_type": "markdown",
   "metadata": {},
   "source": [
    "### Numerical features"
   ]
  },
  {
   "cell_type": "code",
   "execution_count": 9,
   "metadata": {},
   "outputs": [],
   "source": [
    "from sklearn.preprocessing import Normalizer"
   ]
  },
  {
   "cell_type": "code",
   "execution_count": 13,
   "metadata": {},
   "outputs": [],
   "source": [
    "def norm(train,test,col):\n",
    "    normalizer = Normalizer()\n",
    "    normalizer.fit(X_train[col].values.reshape(1,-1))\n",
    "    X_train_col_norm = normalizer.transform(X_train[col].values.reshape(1,-1))\n",
    "    X_test_col_norm = normalizer.transform(X_test[col].values.reshape(1,-1))\n",
    "\n",
    "    return X_train_col_norm.reshape(-1,1),X_test_col_norm.reshape(-1,1)\n",
    "\n"
   ]
  },
  {
   "cell_type": "code",
   "execution_count": 14,
   "metadata": {},
   "outputs": [],
   "source": [
    "X_train_price_norm,X_test_price_norm = norm(X_train,X_test,\"price\")\n",
    "#teacher_number_of_previously_posted_projects\n",
    "X_train_pp_norm,X_test_pp_norm = norm(X_train,X_test,\"teacher_number_of_previously_posted_projects\")"
   ]
  },
  {
   "cell_type": "markdown",
   "metadata": {},
   "source": [
    "# Merging all the features "
   ]
  },
  {
   "cell_type": "code",
   "execution_count": 11,
   "metadata": {},
   "outputs": [],
   "source": [
    "#import scipy.sparse\n",
    "#train_tfidf=scipy.sparse.load_npz('train_tfidf.npz')\n",
    "#test_tfidf = scipy.sparse.load_npz('test_tfidf.npz')\n",
    "\n",
    "#test_w2v = scipy.sparse.load_npz('test_w2v_tidf.npz')\n",
    "#train_w2v = scipy.sparse.load_npz('train_w2v_tfidf.npz')"
   ]
  },
  {
   "cell_type": "markdown",
   "metadata": {},
   "source": [
    "### Merging the Data "
   ]
  },
  {
   "cell_type": "code",
   "execution_count": 15,
   "metadata": {},
   "outputs": [],
   "source": [
    "# Tfidf\n",
    "X_tr_2 = hstack((train_tfidf,X_train_catf,X_train_price_norm,X_train_pp_norm,senti_array_train)).tocsr()\n",
    "X_te_2 = hstack((test_tfidf,X_test_catf,X_test_price_norm,X_test_pp_norm,senti_array_test)).tocsr()\n",
    "\n",
    "\n",
    "# W2v\n",
    "X_tr_w2v = hstack((train_w2v,X_train_catf,X_train_price_norm,X_train_pp_norm)).tocsr()\n",
    "X_te_w2v = hstack((test_w2v,X_test_catf,X_test_price_norm,X_test_pp_norm)).tocsr()"
   ]
  },
  {
   "cell_type": "markdown",
   "metadata": {
    "colab_type": "text",
    "id": "I5wDFj17sc3-"
   },
   "source": [
    "<h2>1.5 Appling Models on different kind of featurization as mentioned in the instructions</h2>"
   ]
  },
  {
   "cell_type": "markdown",
   "metadata": {
    "colab_type": "text",
    "id": "O5tWox1jsc3_"
   },
   "source": [
    "<br>Apply GBDT on different kind of featurization as mentioned in the instructions\n",
    "<br> For Every model that you work on make sure you do the step 2 and step 3 of instrucations"
   ]
  },
  {
   "cell_type": "code",
   "execution_count": 16,
   "metadata": {},
   "outputs": [],
   "source": [
    "from xgboost import XGBClassifier\n",
    "from sklearn.model_selection import RandomizedSearchCV"
   ]
  },
  {
   "cell_type": "code",
   "execution_count": 17,
   "metadata": {
    "scrolled": true
   },
   "outputs": [
    {
     "name": "stdout",
     "output_type": "stream",
     "text": [
      "Fitting 5 folds for each of 10 candidates, totalling 50 fits\n"
     ]
    },
    {
     "name": "stderr",
     "output_type": "stream",
     "text": [
      "[Parallel(n_jobs=-1)]: Using backend LokyBackend with 16 concurrent workers.\n",
      "[Parallel(n_jobs=-1)]: Done   9 tasks      | elapsed:  4.5min\n",
      "[Parallel(n_jobs=-1)]: Done  18 tasks      | elapsed:  7.7min\n",
      "[Parallel(n_jobs=-1)]: Done  25 out of  50 | elapsed:  8.3min remaining:  8.3min\n",
      "[Parallel(n_jobs=-1)]: Done  31 out of  50 | elapsed: 10.1min remaining:  6.2min\n",
      "[Parallel(n_jobs=-1)]: Done  37 out of  50 | elapsed: 11.3min remaining:  4.0min\n",
      "[Parallel(n_jobs=-1)]: Done  43 out of  50 | elapsed: 11.6min remaining:  1.9min\n",
      "[Parallel(n_jobs=-1)]: Done  50 out of  50 | elapsed: 12.9min finished\n"
     ]
    },
    {
     "data": {
      "text/plain": [
       "RandomizedSearchCV(cv=None, error_score=nan,\n",
       "                   estimator=XGBClassifier(base_score=None, booster=None,\n",
       "                                           colsample_bylevel=None,\n",
       "                                           colsample_bynode=None,\n",
       "                                           colsample_bytree=None, gamma=None,\n",
       "                                           gpu_id=None, importance_type='gain',\n",
       "                                           interaction_constraints=None,\n",
       "                                           learning_rate=None,\n",
       "                                           max_delta_step=None, max_depth=None,\n",
       "                                           min_child_weight=None, missing=nan,\n",
       "                                           monotone_constraints=Non...\n",
       "                                           random_state=None, reg_alpha=None,\n",
       "                                           reg_lambda=None,\n",
       "                                           scale_pos_weight=None,\n",
       "                                           subsample=None, tree_method=None,\n",
       "                                           validate_parameters=False,\n",
       "                                           verbosity=None),\n",
       "                   iid='deprecated', n_iter=10, n_jobs=-1,\n",
       "                   param_distributions={'colsample_bytree': [0.1, 0.3, 0.5, 1],\n",
       "                                        'max_depth': [3, 5, 10]},\n",
       "                   pre_dispatch='2*n_jobs', random_state=None, refit=True,\n",
       "                   return_train_score=True, scoring=None, verbose=10)"
      ]
     },
     "execution_count": 17,
     "metadata": {},
     "output_type": "execute_result"
    }
   ],
   "source": [
    "x_cfl=XGBClassifier()\n",
    "\n",
    "prams={\n",
    "     'max_depth':[3,5,10],\n",
    "    'colsample_bytree':[0.1,0.3,0.5,1],\n",
    "    \n",
    "}\n",
    "random_cfl_1=RandomizedSearchCV(x_cfl,param_distributions=prams,verbose=10,n_jobs=-1,return_train_score = True)\n",
    "random_cfl_1.fit(X_tr_2,y_train)"
   ]
  },
  {
   "cell_type": "code",
   "execution_count": 18,
   "metadata": {},
   "outputs": [],
   "source": [
    "with open('clf1_xgb.pkl', 'wb') as f:\n",
    "     pickle.dump(random_cfl_1, f)\n",
    "\n"
   ]
  },
  {
   "cell_type": "code",
   "execution_count": 19,
   "metadata": {},
   "outputs": [
    {
     "data": {
      "text/html": [
       "<div>\n",
       "<style scoped>\n",
       "    .dataframe tbody tr th:only-of-type {\n",
       "        vertical-align: middle;\n",
       "    }\n",
       "\n",
       "    .dataframe tbody tr th {\n",
       "        vertical-align: top;\n",
       "    }\n",
       "\n",
       "    .dataframe thead th {\n",
       "        text-align: right;\n",
       "    }\n",
       "</style>\n",
       "<table border=\"1\" class=\"dataframe\">\n",
       "  <thead>\n",
       "    <tr style=\"text-align: right;\">\n",
       "      <th></th>\n",
       "      <th>mean_fit_time</th>\n",
       "      <th>mean_score_time</th>\n",
       "      <th>mean_test_score</th>\n",
       "      <th>mean_train_score</th>\n",
       "      <th>param_colsample_bytree</th>\n",
       "      <th>param_max_depth</th>\n",
       "      <th>params</th>\n",
       "      <th>rank_test_score</th>\n",
       "      <th>split0_test_score</th>\n",
       "      <th>split0_train_score</th>\n",
       "      <th>...</th>\n",
       "      <th>split2_test_score</th>\n",
       "      <th>split2_train_score</th>\n",
       "      <th>split3_test_score</th>\n",
       "      <th>split3_train_score</th>\n",
       "      <th>split4_test_score</th>\n",
       "      <th>split4_train_score</th>\n",
       "      <th>std_fit_time</th>\n",
       "      <th>std_score_time</th>\n",
       "      <th>std_test_score</th>\n",
       "      <th>std_train_score</th>\n",
       "    </tr>\n",
       "  </thead>\n",
       "  <tbody>\n",
       "    <tr>\n",
       "      <th>0</th>\n",
       "      <td>360.281201</td>\n",
       "      <td>1.694800</td>\n",
       "      <td>0.846549</td>\n",
       "      <td>0.858896</td>\n",
       "      <td>1</td>\n",
       "      <td>5</td>\n",
       "      <td>{'max_depth': 5, 'colsample_bytree': 1}</td>\n",
       "      <td>7</td>\n",
       "      <td>0.846516</td>\n",
       "      <td>0.858324</td>\n",
       "      <td>...</td>\n",
       "      <td>0.846301</td>\n",
       "      <td>0.858394</td>\n",
       "      <td>0.847052</td>\n",
       "      <td>0.859077</td>\n",
       "      <td>0.846847</td>\n",
       "      <td>0.858565</td>\n",
       "      <td>1.235285</td>\n",
       "      <td>0.039158</td>\n",
       "      <td>0.000368</td>\n",
       "      <td>0.000666</td>\n",
       "    </tr>\n",
       "    <tr>\n",
       "      <th>1</th>\n",
       "      <td>690.855871</td>\n",
       "      <td>0.969029</td>\n",
       "      <td>0.842505</td>\n",
       "      <td>0.923695</td>\n",
       "      <td>1</td>\n",
       "      <td>10</td>\n",
       "      <td>{'max_depth': 10, 'colsample_bytree': 1}</td>\n",
       "      <td>10</td>\n",
       "      <td>0.841940</td>\n",
       "      <td>0.921050</td>\n",
       "      <td>...</td>\n",
       "      <td>0.842476</td>\n",
       "      <td>0.922076</td>\n",
       "      <td>0.843500</td>\n",
       "      <td>0.924416</td>\n",
       "      <td>0.841997</td>\n",
       "      <td>0.926431</td>\n",
       "      <td>3.169599</td>\n",
       "      <td>0.060849</td>\n",
       "      <td>0.000562</td>\n",
       "      <td>0.001912</td>\n",
       "    </tr>\n",
       "    <tr>\n",
       "      <th>2</th>\n",
       "      <td>81.333813</td>\n",
       "      <td>1.587256</td>\n",
       "      <td>0.848352</td>\n",
       "      <td>0.850070</td>\n",
       "      <td>0.3</td>\n",
       "      <td>3</td>\n",
       "      <td>{'max_depth': 3, 'colsample_bytree': 0.3}</td>\n",
       "      <td>2</td>\n",
       "      <td>0.848634</td>\n",
       "      <td>0.850126</td>\n",
       "      <td>...</td>\n",
       "      <td>0.848282</td>\n",
       "      <td>0.850078</td>\n",
       "      <td>0.848214</td>\n",
       "      <td>0.849907</td>\n",
       "      <td>0.848624</td>\n",
       "      <td>0.849958</td>\n",
       "      <td>0.147797</td>\n",
       "      <td>0.023158</td>\n",
       "      <td>0.000243</td>\n",
       "      <td>0.000132</td>\n",
       "    </tr>\n",
       "    <tr>\n",
       "      <th>3</th>\n",
       "      <td>363.863707</td>\n",
       "      <td>1.825019</td>\n",
       "      <td>0.843311</td>\n",
       "      <td>0.918455</td>\n",
       "      <td>0.5</td>\n",
       "      <td>10</td>\n",
       "      <td>{'max_depth': 10, 'colsample_bytree': 0.5}</td>\n",
       "      <td>8</td>\n",
       "      <td>0.843443</td>\n",
       "      <td>0.922467</td>\n",
       "      <td>...</td>\n",
       "      <td>0.842544</td>\n",
       "      <td>0.918148</td>\n",
       "      <td>0.844047</td>\n",
       "      <td>0.913315</td>\n",
       "      <td>0.842612</td>\n",
       "      <td>0.917687</td>\n",
       "      <td>3.528259</td>\n",
       "      <td>0.047414</td>\n",
       "      <td>0.000632</td>\n",
       "      <td>0.003100</td>\n",
       "    </tr>\n",
       "    <tr>\n",
       "      <th>4</th>\n",
       "      <td>36.263383</td>\n",
       "      <td>1.651829</td>\n",
       "      <td>0.848462</td>\n",
       "      <td>0.849609</td>\n",
       "      <td>0.1</td>\n",
       "      <td>3</td>\n",
       "      <td>{'max_depth': 3, 'colsample_bytree': 0.1}</td>\n",
       "      <td>1</td>\n",
       "      <td>0.848361</td>\n",
       "      <td>0.849512</td>\n",
       "      <td>...</td>\n",
       "      <td>0.848692</td>\n",
       "      <td>0.849634</td>\n",
       "      <td>0.848487</td>\n",
       "      <td>0.849565</td>\n",
       "      <td>0.848419</td>\n",
       "      <td>0.849514</td>\n",
       "      <td>0.407990</td>\n",
       "      <td>0.044430</td>\n",
       "      <td>0.000125</td>\n",
       "      <td>0.000115</td>\n",
       "    </tr>\n",
       "    <tr>\n",
       "      <th>5</th>\n",
       "      <td>118.774523</td>\n",
       "      <td>1.618859</td>\n",
       "      <td>0.847915</td>\n",
       "      <td>0.850234</td>\n",
       "      <td>0.5</td>\n",
       "      <td>3</td>\n",
       "      <td>{'max_depth': 3, 'colsample_bytree': 0.5}</td>\n",
       "      <td>3</td>\n",
       "      <td>0.848156</td>\n",
       "      <td>0.850195</td>\n",
       "      <td>...</td>\n",
       "      <td>0.847804</td>\n",
       "      <td>0.850180</td>\n",
       "      <td>0.848145</td>\n",
       "      <td>0.850231</td>\n",
       "      <td>0.848145</td>\n",
       "      <td>0.849856</td>\n",
       "      <td>0.173485</td>\n",
       "      <td>0.037235</td>\n",
       "      <td>0.000324</td>\n",
       "      <td>0.000273</td>\n",
       "    </tr>\n",
       "    <tr>\n",
       "      <th>6</th>\n",
       "      <td>221.953726</td>\n",
       "      <td>1.663517</td>\n",
       "      <td>0.842888</td>\n",
       "      <td>0.911109</td>\n",
       "      <td>0.3</td>\n",
       "      <td>10</td>\n",
       "      <td>{'max_depth': 10, 'colsample_bytree': 0.3}</td>\n",
       "      <td>9</td>\n",
       "      <td>0.842213</td>\n",
       "      <td>0.911145</td>\n",
       "      <td>...</td>\n",
       "      <td>0.842681</td>\n",
       "      <td>0.910839</td>\n",
       "      <td>0.842339</td>\n",
       "      <td>0.913196</td>\n",
       "      <td>0.844388</td>\n",
       "      <td>0.908329</td>\n",
       "      <td>2.474825</td>\n",
       "      <td>0.216940</td>\n",
       "      <td>0.000782</td>\n",
       "      <td>0.001613</td>\n",
       "    </tr>\n",
       "    <tr>\n",
       "      <th>7</th>\n",
       "      <td>49.391024</td>\n",
       "      <td>1.683553</td>\n",
       "      <td>0.847478</td>\n",
       "      <td>0.854582</td>\n",
       "      <td>0.1</td>\n",
       "      <td>5</td>\n",
       "      <td>{'max_depth': 5, 'colsample_bytree': 0.1}</td>\n",
       "      <td>4</td>\n",
       "      <td>0.847336</td>\n",
       "      <td>0.854703</td>\n",
       "      <td>...</td>\n",
       "      <td>0.847326</td>\n",
       "      <td>0.854689</td>\n",
       "      <td>0.847462</td>\n",
       "      <td>0.854774</td>\n",
       "      <td>0.847804</td>\n",
       "      <td>0.853835</td>\n",
       "      <td>0.100732</td>\n",
       "      <td>0.005076</td>\n",
       "      <td>0.000173</td>\n",
       "      <td>0.000382</td>\n",
       "    </tr>\n",
       "    <tr>\n",
       "      <th>8</th>\n",
       "      <td>117.534798</td>\n",
       "      <td>1.579118</td>\n",
       "      <td>0.847218</td>\n",
       "      <td>0.856717</td>\n",
       "      <td>0.3</td>\n",
       "      <td>5</td>\n",
       "      <td>{'max_depth': 5, 'colsample_bytree': 0.3}</td>\n",
       "      <td>5</td>\n",
       "      <td>0.847541</td>\n",
       "      <td>0.856343</td>\n",
       "      <td>...</td>\n",
       "      <td>0.847804</td>\n",
       "      <td>0.856652</td>\n",
       "      <td>0.846847</td>\n",
       "      <td>0.856943</td>\n",
       "      <td>0.847121</td>\n",
       "      <td>0.856789</td>\n",
       "      <td>0.418608</td>\n",
       "      <td>0.078366</td>\n",
       "      <td>0.000397</td>\n",
       "      <td>0.000210</td>\n",
       "    </tr>\n",
       "    <tr>\n",
       "      <th>9</th>\n",
       "      <td>137.674672</td>\n",
       "      <td>0.812694</td>\n",
       "      <td>0.846795</td>\n",
       "      <td>0.857721</td>\n",
       "      <td>0.5</td>\n",
       "      <td>5</td>\n",
       "      <td>{'max_depth': 5, 'colsample_bytree': 0.5}</td>\n",
       "      <td>6</td>\n",
       "      <td>0.847336</td>\n",
       "      <td>0.857555</td>\n",
       "      <td>...</td>\n",
       "      <td>0.846096</td>\n",
       "      <td>0.858104</td>\n",
       "      <td>0.847121</td>\n",
       "      <td>0.857506</td>\n",
       "      <td>0.846847</td>\n",
       "      <td>0.858070</td>\n",
       "      <td>13.046673</td>\n",
       "      <td>0.013686</td>\n",
       "      <td>0.000433</td>\n",
       "      <td>0.000305</td>\n",
       "    </tr>\n",
       "  </tbody>\n",
       "</table>\n",
       "<p>10 rows × 22 columns</p>\n",
       "</div>"
      ],
      "text/plain": [
       "   mean_fit_time  mean_score_time  mean_test_score  mean_train_score  \\\n",
       "0     360.281201         1.694800         0.846549          0.858896   \n",
       "1     690.855871         0.969029         0.842505          0.923695   \n",
       "2      81.333813         1.587256         0.848352          0.850070   \n",
       "3     363.863707         1.825019         0.843311          0.918455   \n",
       "4      36.263383         1.651829         0.848462          0.849609   \n",
       "5     118.774523         1.618859         0.847915          0.850234   \n",
       "6     221.953726         1.663517         0.842888          0.911109   \n",
       "7      49.391024         1.683553         0.847478          0.854582   \n",
       "8     117.534798         1.579118         0.847218          0.856717   \n",
       "9     137.674672         0.812694         0.846795          0.857721   \n",
       "\n",
       "  param_colsample_bytree param_max_depth  \\\n",
       "0                      1               5   \n",
       "1                      1              10   \n",
       "2                    0.3               3   \n",
       "3                    0.5              10   \n",
       "4                    0.1               3   \n",
       "5                    0.5               3   \n",
       "6                    0.3              10   \n",
       "7                    0.1               5   \n",
       "8                    0.3               5   \n",
       "9                    0.5               5   \n",
       "\n",
       "                                       params  rank_test_score  \\\n",
       "0     {'max_depth': 5, 'colsample_bytree': 1}                7   \n",
       "1    {'max_depth': 10, 'colsample_bytree': 1}               10   \n",
       "2   {'max_depth': 3, 'colsample_bytree': 0.3}                2   \n",
       "3  {'max_depth': 10, 'colsample_bytree': 0.5}                8   \n",
       "4   {'max_depth': 3, 'colsample_bytree': 0.1}                1   \n",
       "5   {'max_depth': 3, 'colsample_bytree': 0.5}                3   \n",
       "6  {'max_depth': 10, 'colsample_bytree': 0.3}                9   \n",
       "7   {'max_depth': 5, 'colsample_bytree': 0.1}                4   \n",
       "8   {'max_depth': 5, 'colsample_bytree': 0.3}                5   \n",
       "9   {'max_depth': 5, 'colsample_bytree': 0.5}                6   \n",
       "\n",
       "   split0_test_score  split0_train_score  ...  split2_test_score  \\\n",
       "0           0.846516            0.858324  ...           0.846301   \n",
       "1           0.841940            0.921050  ...           0.842476   \n",
       "2           0.848634            0.850126  ...           0.848282   \n",
       "3           0.843443            0.922467  ...           0.842544   \n",
       "4           0.848361            0.849512  ...           0.848692   \n",
       "5           0.848156            0.850195  ...           0.847804   \n",
       "6           0.842213            0.911145  ...           0.842681   \n",
       "7           0.847336            0.854703  ...           0.847326   \n",
       "8           0.847541            0.856343  ...           0.847804   \n",
       "9           0.847336            0.857555  ...           0.846096   \n",
       "\n",
       "   split2_train_score  split3_test_score  split3_train_score  \\\n",
       "0            0.858394           0.847052            0.859077   \n",
       "1            0.922076           0.843500            0.924416   \n",
       "2            0.850078           0.848214            0.849907   \n",
       "3            0.918148           0.844047            0.913315   \n",
       "4            0.849634           0.848487            0.849565   \n",
       "5            0.850180           0.848145            0.850231   \n",
       "6            0.910839           0.842339            0.913196   \n",
       "7            0.854689           0.847462            0.854774   \n",
       "8            0.856652           0.846847            0.856943   \n",
       "9            0.858104           0.847121            0.857506   \n",
       "\n",
       "   split4_test_score  split4_train_score  std_fit_time  std_score_time  \\\n",
       "0           0.846847            0.858565      1.235285        0.039158   \n",
       "1           0.841997            0.926431      3.169599        0.060849   \n",
       "2           0.848624            0.849958      0.147797        0.023158   \n",
       "3           0.842612            0.917687      3.528259        0.047414   \n",
       "4           0.848419            0.849514      0.407990        0.044430   \n",
       "5           0.848145            0.849856      0.173485        0.037235   \n",
       "6           0.844388            0.908329      2.474825        0.216940   \n",
       "7           0.847804            0.853835      0.100732        0.005076   \n",
       "8           0.847121            0.856789      0.418608        0.078366   \n",
       "9           0.846847            0.858070     13.046673        0.013686   \n",
       "\n",
       "   std_test_score  std_train_score  \n",
       "0        0.000368         0.000666  \n",
       "1        0.000562         0.001912  \n",
       "2        0.000243         0.000132  \n",
       "3        0.000632         0.003100  \n",
       "4        0.000125         0.000115  \n",
       "5        0.000324         0.000273  \n",
       "6        0.000782         0.001613  \n",
       "7        0.000173         0.000382  \n",
       "8        0.000397         0.000210  \n",
       "9        0.000433         0.000305  \n",
       "\n",
       "[10 rows x 22 columns]"
      ]
     },
     "execution_count": 19,
     "metadata": {},
     "output_type": "execute_result"
    }
   ],
   "source": [
    "pd.DataFrame(random_cfl_1.cv_results_)"
   ]
  },
  {
   "cell_type": "code",
   "execution_count": 20,
   "metadata": {
    "scrolled": false
   },
   "outputs": [
    {
     "data": {
      "image/png": "[encoded data removed]",
      "text/plain": [
       "<Figure size 1440x432 with 4 Axes>"
      ]
     },
     "metadata": {
      "needs_background": "light"
     },
     "output_type": "display_data"
    }
   ],
   "source": [
    "import seaborn as sns \n",
    "max_scores1 = pd.DataFrame(random_cfl_1.cv_results_).groupby(['param_colsample_bytree', 'param_max_depth']).max().unstack()[['mean_train_score','mean_test_score']]\n",
    "fig, ax = plt.subplots(1,2, figsize=(20,6))\n",
    "sns.heatmap(max_scores1.mean_train_score, annot = True, fmt='.4g', ax=ax[0])\n",
    "sns.heatmap(max_scores1.mean_test_score, annot = True, fmt='.4g', ax=ax[1])\n",
    "ax[0].set_title('Train Set')\n",
    "ax[1].set_title('CV Set')\n",
    "plt.show()"
   ]
  },
  {
   "cell_type": "code",
   "execution_count": 22,
   "metadata": {},
   "outputs": [
    {
     "data": {
      "text/plain": [
       "XGBClassifier(base_score=0.5, booster=None, colsample_bylevel=1,\n",
       "              colsample_bynode=1, colsample_bytree=0.1, gamma=0, gpu_id=-1,\n",
       "              importance_type='gain', interaction_constraints=None,\n",
       "              learning_rate=0.300000012, max_delta_step=0, max_depth=3,\n",
       "              min_child_weight=1, missing=nan, monotone_constraints=None,\n",
       "              n_estimators=100, n_jobs=0, num_parallel_tree=1,\n",
       "              objective='binary:logistic', random_state=0, reg_alpha=0,\n",
       "              reg_lambda=1, scale_pos_weight=1, subsample=1, tree_method=None,\n",
       "              validate_parameters=False, verbosity=None)"
      ]
     },
     "execution_count": 22,
     "metadata": {},
     "output_type": "execute_result"
    }
   ],
   "source": [
    "colsample_bytree = random_cfl_1.best_params_['colsample_bytree']\n",
    "max_depth= random_cfl_1.best_params_['max_depth']\n",
    "est_1= XGBClassifier(colsample_bytree = colsample_bytree,max_depth= max_depth )\n",
    "est_1.fit(X_tr_2,y_train)"
   ]
  },
  {
   "cell_type": "code",
   "execution_count": 23,
   "metadata": {},
   "outputs": [],
   "source": [
    "with open('est1_xgb.pkl', 'wb') as f:\n",
    "     pickle.dump(est_1, f)"
   ]
  },
  {
   "cell_type": "code",
   "execution_count": 24,
   "metadata": {},
   "outputs": [],
   "source": [
    "#Prediction\n",
    "y_train_pred_tfidf = est_1.predict(X_tr_2)\n",
    "y_test_pred_tfidf = est_1.predict(X_te_2)\n",
    "#Predicted Probability\n",
    "y_train_pred_tfidf_pp= est_1.predict_proba(X_tr_2)[:,1]\n",
    "y_test_pred_tfidf_pp = est_1.predict_proba(X_te_2)[:,1]"
   ]
  },
  {
   "cell_type": "code",
   "execution_count": 38,
   "metadata": {
    "scrolled": true
   },
   "outputs": [
    {
     "data": {
      "image/png": "[encoded data removed]",
      "text/plain": [
       "<Figure size 432x288 with 1 Axes>"
      ]
     },
     "metadata": {
      "needs_background": "light"
     },
     "output_type": "display_data"
    }
   ],
   "source": [
    "from sklearn.metrics import roc_curve,auc\n",
    "fpr_tr,tpr_tr,__tr = roc_curve(y_train,y_train_pred_tfidf_pp)\n",
    "fpr_te,tpr_te,__te = roc_curve(y_test,y_test_pred_tfidf_pp)\n",
    "tfidf_test_auc = auc(fpr_te,tpr_te)\n",
    "\n",
    "plt.title(\"ROC Curve of Test and Train TF-IDF\" )\n",
    "plt.plot(fpr_tr,tpr_tr,label = \"train AUC score\" + str(auc(fpr_tr,tpr_tr)))\n",
    "plt.plot(fpr_te,tpr_te,label = \"test AUC score\"+ str(auc(fpr_te,tpr_te)))\n",
    "plt.legend()\n",
    "plt.plot([1,0],[1,0],\"r--\")\n",
    "plt.xlabel(\"FPR\")\n",
    "plt.ylabel(\"TPR\")\n",
    "plt.show()"
   ]
  },
  {
   "cell_type": "code",
   "execution_count": 44,
   "metadata": {},
   "outputs": [
    {
     "data": {
      "image/png": "[encoded data removed]",
      "text/plain": [
       "<Figure size 360x360 with 2 Axes>"
      ]
     },
     "metadata": {
      "needs_background": "light"
     },
     "output_type": "display_data"
    },
    {
     "data": {
      "image/png": "[encoded data removed]",
      "text/plain": [
       "<Figure size 360x360 with 2 Axes>"
      ]
     },
     "metadata": {
      "needs_background": "light"
     },
     "output_type": "display_data"
    }
   ],
   "source": [
    "from sklearn.metrics import confusion_matrix\n",
    "array = confusion_matrix(y_train,y_train_pred_tfidf)\n",
    "df_cm = pd.DataFrame(array, range(2), range(2))\n",
    "plt.figure(figsize=(5,5))\n",
    "plt.title(\"Confusion Matrix of modified features train\")\n",
    "sns.heatmap(df_cm,annot =True,fmt = \"g\") # font size\n",
    "\n",
    "plt.show()\n",
    "\n",
    "\n",
    "array = confusion_matrix(y_test,y_test_pred_tfidf)\n",
    "df_cm = pd.DataFrame(array, range(2), range(2))\n",
    "plt.figure(figsize=(5,5))\n",
    "plt.title(\"Confusion Matrix of modifies features test\")\n",
    "sns.heatmap(df_cm,annot =True,fmt = \"g\") # font size\n",
    "\n",
    "plt.show()"
   ]
  },
  {
   "cell_type": "markdown",
   "metadata": {},
   "source": [
    "### W2V- GBDT"
   ]
  },
  {
   "cell_type": "code",
   "execution_count": 26,
   "metadata": {},
   "outputs": [
    {
     "name": "stdout",
     "output_type": "stream",
     "text": [
      "Fitting 5 folds for each of 10 candidates, totalling 50 fits\n"
     ]
    },
    {
     "name": "stderr",
     "output_type": "stream",
     "text": [
      "[Parallel(n_jobs=-1)]: Using backend LokyBackend with 16 concurrent workers.\n",
      "[Parallel(n_jobs=-1)]: Done   9 tasks      | elapsed:  5.8min\n",
      "[Parallel(n_jobs=-1)]: Done  18 tasks      | elapsed:  7.8min\n",
      "[Parallel(n_jobs=-1)]: Done  25 out of  50 | elapsed:  9.9min remaining:  9.9min\n",
      "[Parallel(n_jobs=-1)]: Done  31 out of  50 | elapsed: 12.3min remaining:  7.5min\n",
      "[Parallel(n_jobs=-1)]: Done  37 out of  50 | elapsed: 14.4min remaining:  5.1min\n",
      "[Parallel(n_jobs=-1)]: Done  43 out of  50 | elapsed: 16.0min remaining:  2.6min\n",
      "[Parallel(n_jobs=-1)]: Done  50 out of  50 | elapsed: 17.5min finished\n"
     ]
    },
    {
     "data": {
      "text/plain": [
       "RandomizedSearchCV(cv=None, error_score=nan,\n",
       "                   estimator=XGBClassifier(base_score=None, booster=None,\n",
       "                                           colsample_bylevel=None,\n",
       "                                           colsample_bynode=None,\n",
       "                                           colsample_bytree=None, gamma=None,\n",
       "                                           gpu_id=None, importance_type='gain',\n",
       "                                           interaction_constraints=None,\n",
       "                                           learning_rate=None,\n",
       "                                           max_delta_step=None, max_depth=None,\n",
       "                                           min_child_weight=None, missing=nan,\n",
       "                                           monotone_constraints=Non...\n",
       "                                           random_state=None, reg_alpha=None,\n",
       "                                           reg_lambda=None,\n",
       "                                           scale_pos_weight=None,\n",
       "                                           subsample=None, tree_method=None,\n",
       "                                           validate_parameters=False,\n",
       "                                           verbosity=None),\n",
       "                   iid='deprecated', n_iter=10, n_jobs=-1,\n",
       "                   param_distributions={'colsample_bytree': [0.1, 0.3, 0.5, 1],\n",
       "                                        'max_depth': [3, 5, 10]},\n",
       "                   pre_dispatch='2*n_jobs', random_state=None, refit=True,\n",
       "                   return_train_score=True, scoring=None, verbose=10)"
      ]
     },
     "execution_count": 26,
     "metadata": {},
     "output_type": "execute_result"
    }
   ],
   "source": [
    "x_cfl=XGBClassifier()\n",
    "\n",
    "prams={\n",
    "     'max_depth':[3,5,10],\n",
    "    'colsample_bytree':[0.1,0.3,0.5,1],\n",
    "    \n",
    "}\n",
    "random_cfl_2=RandomizedSearchCV(x_cfl,param_distributions=prams,verbose=10,n_jobs=-1,return_train_score = True)\n",
    "random_cfl_2.fit(X_tr_w2v,y_train)"
   ]
  },
  {
   "cell_type": "code",
   "execution_count": 28,
   "metadata": {},
   "outputs": [
    {
     "data": {
      "image/png": "[encoded data removed]",
      "text/plain": [
       "<Figure size 1440x432 with 4 Axes>"
      ]
     },
     "metadata": {
      "needs_background": "light"
     },
     "output_type": "display_data"
    }
   ],
   "source": [
    "import seaborn as sns \n",
    "max_scores1 = pd.DataFrame(random_cfl_2.cv_results_).groupby([\"param_colsample_bytree\",\"param_max_depth\"]).max().unstack()[['mean_train_score','mean_test_score']]\n",
    "fig, ax = plt.subplots(1,2, figsize=(20,6))\n",
    "sns.heatmap(max_scores1.mean_train_score, annot = True, fmt='.4g', ax=ax[0])\n",
    "sns.heatmap(max_scores1.mean_test_score, annot = True, fmt='.4g', ax=ax[1])\n",
    "ax[0].set_title('Train Set')\n",
    "ax[1].set_title('CV Set')\n",
    "plt.show()"
   ]
  },
  {
   "cell_type": "code",
   "execution_count": 29,
   "metadata": {},
   "outputs": [
    {
     "data": {
      "text/plain": [
       "XGBClassifier(base_score=0.5, booster=None, colsample_bylevel=1,\n",
       "              colsample_bynode=1, colsample_bytree=0.1, gamma=0, gpu_id=-1,\n",
       "              importance_type='gain', interaction_constraints=None,\n",
       "              learning_rate=0.300000012, max_delta_step=0, max_depth=3,\n",
       "              min_child_weight=1, missing=nan, monotone_constraints=None,\n",
       "              n_estimators=100, n_jobs=0, num_parallel_tree=1,\n",
       "              objective='binary:logistic', random_state=0, reg_alpha=0,\n",
       "              reg_lambda=1, scale_pos_weight=1, subsample=1, tree_method=None,\n",
       "              validate_parameters=False, verbosity=None)"
      ]
     },
     "execution_count": 29,
     "metadata": {},
     "output_type": "execute_result"
    }
   ],
   "source": [
    "colsample_bytree = random_cfl_2.best_params_['colsample_bytree']\n",
    "max_depth= random_cfl_2.best_params_['max_depth']\n",
    "est_2= XGBClassifier(colsample_bytree = colsample_bytree,max_depth= max_depth )\n",
    "est_2.fit(X_tr_w2v,y_train)"
   ]
  },
  {
   "cell_type": "code",
   "execution_count": 30,
   "metadata": {},
   "outputs": [],
   "source": [
    "#Prediction\n",
    "y_train_pred_w2v = est_2.predict(X_tr_w2v)\n",
    "y_test_pred_w2v = est_2.predict(X_te_w2v)\n",
    "#Predicted Probability\n",
    "y_train_pred_w2v_pp= est_2.predict_proba(X_tr_w2v)[:,1]\n",
    "y_test_pred_w2v_pp = est_2.predict_proba(X_te_w2v)[:,1]"
   ]
  },
  {
   "cell_type": "code",
   "execution_count": 35,
   "metadata": {},
   "outputs": [],
   "source": []
  },
  {
   "cell_type": "code",
   "execution_count": 31,
   "metadata": {
    "scrolled": true
   },
   "outputs": [
    {
     "data": {
      "image/png": "[encoded data removed]",
      "text/plain": [
       "<Figure size 432x288 with 1 Axes>"
      ]
     },
     "metadata": {
      "needs_background": "light"
     },
     "output_type": "display_data"
    }
   ],
   "source": [
    "from sklearn.metrics import roc_curve,auc\n",
    "fpr_tr,tpr_tr,__tr = roc_curve(y_train,y_train_pred_w2v_pp)\n",
    "fpr_te,tpr_te,__te = roc_curve(y_test,y_test_pred_w2v_pp)\n",
    "w2v_score= auc(fpr_te,tpr_te)\n",
    "\n",
    "plt.title(\"ROC Curve of Test and Train TF-IDF-W2v GBDT\" )\n",
    "plt.plot(fpr_tr,tpr_tr,label = \"train AUC score\" + str(auc(fpr_tr,tpr_tr)))\n",
    "plt.plot(fpr_te,tpr_te,label = \"test AUC score\"+ str(auc(fpr_te,tpr_te)))\n",
    "plt.legend()\n",
    "plt.plot([1,0],[1,0],\"r--\")\n",
    "plt.xlabel(\"FPR\")\n",
    "plt.ylabel(\"TPR\")\n",
    "plt.show()"
   ]
  },
  {
   "cell_type": "code",
   "execution_count": 43,
   "metadata": {},
   "outputs": [
    {
     "data": {
      "image/png": "[encoded data removed]",
      "text/plain": [
       "<Figure size 360x360 with 2 Axes>"
      ]
     },
     "metadata": {
      "needs_background": "light"
     },
     "output_type": "display_data"
    },
    {
     "data": {
      "image/png": "[encoded data removed]",
      "text/plain": [
       "<Figure size 360x360 with 2 Axes>"
      ]
     },
     "metadata": {
      "needs_background": "light"
     },
     "output_type": "display_data"
    }
   ],
   "source": [
    "from sklearn.metrics import confusion_matrix\n",
    "array = confusion_matrix(y_train,y_train_pred_w2v)\n",
    "df_cm = pd.DataFrame(array, range(2), range(2))\n",
    "plt.figure(figsize=(5,5))\n",
    "plt.title(\"Confusion Matrix of modified features train\")\n",
    "sns.heatmap(df_cm,annot =True,fmt = \"g\") # font size\n",
    "\n",
    "plt.show()\n",
    "\n",
    "\n",
    "array = confusion_matrix(y_test,y_test_pred_w2v)\n",
    "df_cm = pd.DataFrame(array, range(2), range(2))\n",
    "plt.figure(figsize=(5,5))\n",
    "plt.title(\"Confusion Matrix of modifies features test\")\n",
    "sns.heatmap(df_cm,annot =True,fmt = \"g\") # font size\n",
    "\n",
    "plt.show()"
   ]
  },
  {
   "cell_type": "code",
   "execution_count": 40,
   "metadata": {
    "scrolled": true
   },
   "outputs": [
    {
     "name": "stdout",
     "output_type": "stream",
     "text": [
      "+----------------------------------------+---------+-------------------------------------+--------------------+\n",
      "|               Vectorizer               |  Model  |              Parameters             |      Test-AUC      |\n",
      "+----------------------------------------+---------+-------------------------------------+--------------------+\n",
      "| TFIDF +Response coding+sentiment_score | XGboost | max_depth :3 ,colsample_bytree: 0.1 | 0.6041440240532883 |\n",
      "|       TFIDF W2V+Response coding        | XGboost | max_depth :3 ,colsample_bytree :0.1 | 0.6029916604726717 |\n",
      "+----------------------------------------+---------+-------------------------------------+--------------------+\n"
     ]
    }
   ],
   "source": [
    "from prettytable import PrettyTable\n",
    "\n",
    "\n",
    "\n",
    "pt = PrettyTable()\n",
    "pt.field_names = [\"Vectorizer\", \"Model\", \"Parameters\", \"Test-AUC\"]\n",
    "\n",
    "pt.add_row([\"TFIDF +Response coding+sentiment_score\", \"XGboost\",\"max_depth :\"+str(est_1.max_depth) + \" ,colsample_bytree: \" + str(est_1.colsample_bytree) ,tfidf_test_auc])\n",
    "pt.add_row([\"TFIDF W2V+Response coding\", \"XGboost\",\"max_depth :\"+str(est_2.max_depth) + \" ,colsample_bytree :\" + str(est_2.colsample_bytree), w2v_score])\n",
    "print(pt)"
   ]
  }
 ],
 "metadata": {
  "colab": {
   "collapsed_sections": [],
   "name": "11_Assignment_GBDT_Instructions.ipynb",
   "provenance": [],
   "version": "0.3.2"
  },
  "kernelspec": {
   "display_name": "Python 3 (ipykernel)",
   "language": "python",
   "name": "python3"
  },
  "language_info": {
   "codemirror_mode": {
    "name": "ipython",
    "version": 3
   },
   "file_extension": ".py",
   "mimetype": "text/x-python",
   "name": "python",
   "nbconvert_exporter": "python",
   "pygments_lexer": "ipython3",
   "version": "3.8.7"
  }
 },
 "nbformat": 4,
 "nbformat_minor": 1
}
