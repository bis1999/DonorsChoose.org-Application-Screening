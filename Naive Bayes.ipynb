{
 "cells": [
  {
   "cell_type": "markdown",
   "metadata": {
    "colab_type": "text",
    "id": "Dnubs-Nnb3cw"
   },
   "source": [
    "# Objectives :"
   ]
  },
  {
   "cell_type": "markdown",
   "metadata": {
    "colab_type": "text",
    "id": "12krXa2pb3c1"
   },
   "source": [
    "<ol>\n",
    "    <li><strong>Apply Multinomial Naive Bayes on these feature sets</strong>\n",
    "        <ul>\n",
    "            <li><font color='red'>Set 1</font>: categorical, numerical features + preprocessed_eassay (BOW)</li>\n",
    "            <li><font color='red'>Set 2</font>: categorical, numerical features + preprocessed_eassay (TFIDF)</li>\n",
    "        </ul>\n",
    "    </li>\n",
    "    <li><strong>The hyper paramter tuning(find best alpha:smoothing parameter)</strong>\n",
    "        <ul>\n",
    "    <li>To find the best hyper parameter which will give the maximum <a href='https://www.appliedaicourse.com/course/applied-ai-course-online/lessons/receiver-operating-characteristic-curve-roc-curve-and-auc-1/'>AUC</a> value</li>\n",
    "    <li>To find the best hyper paramter using k-fold cross validation(use GridsearchCV or RandomsearchCV)/simple cross validation data (write for loop to iterate over hyper parameter values)</li>\n",
    "\n",
    "        \n",
    "   "
   ]
  },
  {
   "cell_type": "markdown",
   "metadata": {
    "colab_type": "text",
    "id": "inzYCIaib3c3"
   },
   "source": [
    "<h1>2. Naive Bayes </h1>"
   ]
  },
  {
   "cell_type": "markdown",
   "metadata": {
    "colab_type": "text",
    "id": "FYqCIxzFb3c5"
   },
   "source": [
    "## 1.1 Loading Data"
   ]
  },
  {
   "cell_type": "code",
   "execution_count": 1,
   "metadata": {},
   "outputs": [],
   "source": [
    "%matplotlib inline\n",
    "import warnings\n",
    "warnings.filterwarnings(\"ignore\")\n",
    "\n",
    "import pandas as pd\n",
    "import numpy as np\n",
    "import nltk\n",
    "import matplotlib.pyplot as plt\n",
    "import seaborn as sns\n",
    "from sklearn.feature_extraction.text import TfidfVectorizer\n",
    "from sklearn.feature_extraction.text import CountVectorizer\n",
    "from sklearn.metrics import confusion_matrix\n",
    "from sklearn import metrics\n",
    "from sklearn.metrics import roc_curve, auc\n",
    "\n",
    "import re\n",
    "# Tutorial about Python regular expressions: https://pymotw.com/2/re/\n",
    "\n",
    "import pickle\n",
    "from tqdm import tqdm\n",
    "import os\n",
    "\n",
    "#from plotly import plotly\n",
    "#import plotly.offline as offline\n",
    "#import plotly.graph_objs as go\n",
    "#offline.init_notebook_mode()\n",
    "#from collections import Counter"
   ]
  },
  {
   "cell_type": "code",
   "execution_count": 2,
   "metadata": {
    "colab": {},
    "colab_type": "code",
    "id": "dA1jknyqb3c_"
   },
   "outputs": [
    {
     "data": {
      "text/html": [
       "<div>\n",
       "<style scoped>\n",
       "    .dataframe tbody tr th:only-of-type {\n",
       "        vertical-align: middle;\n",
       "    }\n",
       "\n",
       "    .dataframe tbody tr th {\n",
       "        vertical-align: top;\n",
       "    }\n",
       "\n",
       "    .dataframe thead th {\n",
       "        text-align: right;\n",
       "    }\n",
       "</style>\n",
       "<table border=\"1\" class=\"dataframe\">\n",
       "  <thead>\n",
       "    <tr style=\"text-align: right;\">\n",
       "      <th></th>\n",
       "      <th>school_state</th>\n",
       "      <th>teacher_prefix</th>\n",
       "      <th>project_grade_category</th>\n",
       "      <th>teacher_number_of_previously_posted_projects</th>\n",
       "      <th>project_is_approved</th>\n",
       "      <th>clean_categories</th>\n",
       "      <th>clean_subcategories</th>\n",
       "      <th>essay</th>\n",
       "      <th>price</th>\n",
       "    </tr>\n",
       "  </thead>\n",
       "  <tbody>\n",
       "    <tr>\n",
       "      <th>0</th>\n",
       "      <td>ca</td>\n",
       "      <td>mrs</td>\n",
       "      <td>grades_prek_2</td>\n",
       "      <td>53</td>\n",
       "      <td>1</td>\n",
       "      <td>math_science</td>\n",
       "      <td>appliedsciences health_lifescience</td>\n",
       "      <td>i fortunate enough use fairy tale stem kits cl...</td>\n",
       "      <td>725.05</td>\n",
       "    </tr>\n",
       "    <tr>\n",
       "      <th>1</th>\n",
       "      <td>ut</td>\n",
       "      <td>ms</td>\n",
       "      <td>grades_3_5</td>\n",
       "      <td>4</td>\n",
       "      <td>1</td>\n",
       "      <td>specialneeds</td>\n",
       "      <td>specialneeds</td>\n",
       "      <td>imagine 8 9 years old you third grade classroo...</td>\n",
       "      <td>213.03</td>\n",
       "    </tr>\n",
       "    <tr>\n",
       "      <th>2</th>\n",
       "      <td>ca</td>\n",
       "      <td>mrs</td>\n",
       "      <td>grades_prek_2</td>\n",
       "      <td>10</td>\n",
       "      <td>1</td>\n",
       "      <td>literacy_language</td>\n",
       "      <td>literacy</td>\n",
       "      <td>having class 24 students comes diverse learner...</td>\n",
       "      <td>329.00</td>\n",
       "    </tr>\n",
       "    <tr>\n",
       "      <th>3</th>\n",
       "      <td>ga</td>\n",
       "      <td>mrs</td>\n",
       "      <td>grades_prek_2</td>\n",
       "      <td>2</td>\n",
       "      <td>1</td>\n",
       "      <td>appliedlearning</td>\n",
       "      <td>earlydevelopment</td>\n",
       "      <td>i recently read article giving students choice...</td>\n",
       "      <td>481.04</td>\n",
       "    </tr>\n",
       "    <tr>\n",
       "      <th>4</th>\n",
       "      <td>wa</td>\n",
       "      <td>mrs</td>\n",
       "      <td>grades_3_5</td>\n",
       "      <td>2</td>\n",
       "      <td>1</td>\n",
       "      <td>literacy_language</td>\n",
       "      <td>literacy</td>\n",
       "      <td>my students crave challenge eat obstacles brea...</td>\n",
       "      <td>17.74</td>\n",
       "    </tr>\n",
       "    <tr>\n",
       "      <th>5</th>\n",
       "      <td>ca</td>\n",
       "      <td>mrs</td>\n",
       "      <td>grades_3_5</td>\n",
       "      <td>6</td>\n",
       "      <td>1</td>\n",
       "      <td>math_science history_civics</td>\n",
       "      <td>mathematics socialsciences</td>\n",
       "      <td>it end school year routines run course student...</td>\n",
       "      <td>102.50</td>\n",
       "    </tr>\n",
       "    <tr>\n",
       "      <th>6</th>\n",
       "      <td>ca</td>\n",
       "      <td>mrs</td>\n",
       "      <td>grades_3_5</td>\n",
       "      <td>0</td>\n",
       "      <td>1</td>\n",
       "      <td>literacy_language math_science</td>\n",
       "      <td>literacy mathematics</td>\n",
       "      <td>sitting still overrated it makes sense opera m...</td>\n",
       "      <td>1418.08</td>\n",
       "    </tr>\n",
       "    <tr>\n",
       "      <th>7</th>\n",
       "      <td>ca</td>\n",
       "      <td>ms</td>\n",
       "      <td>grades_3_5</td>\n",
       "      <td>0</td>\n",
       "      <td>0</td>\n",
       "      <td>math_science history_civics</td>\n",
       "      <td>appliedsciences history_geography</td>\n",
       "      <td>it not enough read book write essay connect de...</td>\n",
       "      <td>495.29</td>\n",
       "    </tr>\n",
       "    <tr>\n",
       "      <th>8</th>\n",
       "      <td>ca</td>\n",
       "      <td>ms</td>\n",
       "      <td>grades_prek_2</td>\n",
       "      <td>127</td>\n",
       "      <td>1</td>\n",
       "      <td>literacy_language</td>\n",
       "      <td>esl literacy</td>\n",
       "      <td>never society rapidly changed technology invad...</td>\n",
       "      <td>299.99</td>\n",
       "    </tr>\n",
       "    <tr>\n",
       "      <th>9</th>\n",
       "      <td>hi</td>\n",
       "      <td>mrs</td>\n",
       "      <td>grades_3_5</td>\n",
       "      <td>41</td>\n",
       "      <td>1</td>\n",
       "      <td>math_science</td>\n",
       "      <td>appliedsciences mathematics</td>\n",
       "      <td>do remember first time saw star wars wall e ro...</td>\n",
       "      <td>479.94</td>\n",
       "    </tr>\n",
       "  </tbody>\n",
       "</table>\n",
       "</div>"
      ],
      "text/plain": [
       "  school_state teacher_prefix project_grade_category  \\\n",
       "0           ca            mrs          grades_prek_2   \n",
       "1           ut             ms             grades_3_5   \n",
       "2           ca            mrs          grades_prek_2   \n",
       "3           ga            mrs          grades_prek_2   \n",
       "4           wa            mrs             grades_3_5   \n",
       "5           ca            mrs             grades_3_5   \n",
       "6           ca            mrs             grades_3_5   \n",
       "7           ca             ms             grades_3_5   \n",
       "8           ca             ms          grades_prek_2   \n",
       "9           hi            mrs             grades_3_5   \n",
       "\n",
       "   teacher_number_of_previously_posted_projects  project_is_approved  \\\n",
       "0                                            53                    1   \n",
       "1                                             4                    1   \n",
       "2                                            10                    1   \n",
       "3                                             2                    1   \n",
       "4                                             2                    1   \n",
       "5                                             6                    1   \n",
       "6                                             0                    1   \n",
       "7                                             0                    0   \n",
       "8                                           127                    1   \n",
       "9                                            41                    1   \n",
       "\n",
       "                 clean_categories                 clean_subcategories  \\\n",
       "0                    math_science  appliedsciences health_lifescience   \n",
       "1                    specialneeds                        specialneeds   \n",
       "2               literacy_language                            literacy   \n",
       "3                 appliedlearning                    earlydevelopment   \n",
       "4               literacy_language                            literacy   \n",
       "5     math_science history_civics          mathematics socialsciences   \n",
       "6  literacy_language math_science                literacy mathematics   \n",
       "7     math_science history_civics   appliedsciences history_geography   \n",
       "8               literacy_language                        esl literacy   \n",
       "9                    math_science         appliedsciences mathematics   \n",
       "\n",
       "                                               essay    price  \n",
       "0  i fortunate enough use fairy tale stem kits cl...   725.05  \n",
       "1  imagine 8 9 years old you third grade classroo...   213.03  \n",
       "2  having class 24 students comes diverse learner...   329.00  \n",
       "3  i recently read article giving students choice...   481.04  \n",
       "4  my students crave challenge eat obstacles brea...    17.74  \n",
       "5  it end school year routines run course student...   102.50  \n",
       "6  sitting still overrated it makes sense opera m...  1418.08  \n",
       "7  it not enough read book write essay connect de...   495.29  \n",
       "8  never society rapidly changed technology invad...   299.99  \n",
       "9  do remember first time saw star wars wall e ro...   479.94  "
      ]
     },
     "execution_count": 2,
     "metadata": {},
     "output_type": "execute_result"
    }
   ],
   "source": [
    "import pandas\n",
    "data = pandas.read_csv('preprocessed_data.csv',nrows=70000)\n",
    "data.head(10)"
   ]
  },
  {
   "cell_type": "code",
   "execution_count": 3,
   "metadata": {},
   "outputs": [],
   "source": [
    "y = data[\"project_is_approved\"].values\n",
    "X = data.drop([\"project_is_approved\"],axis=1)"
   ]
  },
  {
   "cell_type": "code",
   "execution_count": 4,
   "metadata": {},
   "outputs": [
    {
     "data": {
      "text/html": [
       "<div>\n",
       "<style scoped>\n",
       "    .dataframe tbody tr th:only-of-type {\n",
       "        vertical-align: middle;\n",
       "    }\n",
       "\n",
       "    .dataframe tbody tr th {\n",
       "        vertical-align: top;\n",
       "    }\n",
       "\n",
       "    .dataframe thead th {\n",
       "        text-align: right;\n",
       "    }\n",
       "</style>\n",
       "<table border=\"1\" class=\"dataframe\">\n",
       "  <thead>\n",
       "    <tr style=\"text-align: right;\">\n",
       "      <th></th>\n",
       "      <th>school_state</th>\n",
       "      <th>teacher_prefix</th>\n",
       "      <th>project_grade_category</th>\n",
       "      <th>teacher_number_of_previously_posted_projects</th>\n",
       "      <th>clean_categories</th>\n",
       "      <th>clean_subcategories</th>\n",
       "      <th>essay</th>\n",
       "      <th>price</th>\n",
       "    </tr>\n",
       "  </thead>\n",
       "  <tbody>\n",
       "    <tr>\n",
       "      <th>0</th>\n",
       "      <td>ca</td>\n",
       "      <td>mrs</td>\n",
       "      <td>grades_prek_2</td>\n",
       "      <td>53</td>\n",
       "      <td>math_science</td>\n",
       "      <td>appliedsciences health_lifescience</td>\n",
       "      <td>i fortunate enough use fairy tale stem kits cl...</td>\n",
       "      <td>725.05</td>\n",
       "    </tr>\n",
       "    <tr>\n",
       "      <th>1</th>\n",
       "      <td>ut</td>\n",
       "      <td>ms</td>\n",
       "      <td>grades_3_5</td>\n",
       "      <td>4</td>\n",
       "      <td>specialneeds</td>\n",
       "      <td>specialneeds</td>\n",
       "      <td>imagine 8 9 years old you third grade classroo...</td>\n",
       "      <td>213.03</td>\n",
       "    </tr>\n",
       "    <tr>\n",
       "      <th>2</th>\n",
       "      <td>ca</td>\n",
       "      <td>mrs</td>\n",
       "      <td>grades_prek_2</td>\n",
       "      <td>10</td>\n",
       "      <td>literacy_language</td>\n",
       "      <td>literacy</td>\n",
       "      <td>having class 24 students comes diverse learner...</td>\n",
       "      <td>329.00</td>\n",
       "    </tr>\n",
       "    <tr>\n",
       "      <th>3</th>\n",
       "      <td>ga</td>\n",
       "      <td>mrs</td>\n",
       "      <td>grades_prek_2</td>\n",
       "      <td>2</td>\n",
       "      <td>appliedlearning</td>\n",
       "      <td>earlydevelopment</td>\n",
       "      <td>i recently read article giving students choice...</td>\n",
       "      <td>481.04</td>\n",
       "    </tr>\n",
       "    <tr>\n",
       "      <th>4</th>\n",
       "      <td>wa</td>\n",
       "      <td>mrs</td>\n",
       "      <td>grades_3_5</td>\n",
       "      <td>2</td>\n",
       "      <td>literacy_language</td>\n",
       "      <td>literacy</td>\n",
       "      <td>my students crave challenge eat obstacles brea...</td>\n",
       "      <td>17.74</td>\n",
       "    </tr>\n",
       "    <tr>\n",
       "      <th>5</th>\n",
       "      <td>ca</td>\n",
       "      <td>mrs</td>\n",
       "      <td>grades_3_5</td>\n",
       "      <td>6</td>\n",
       "      <td>math_science history_civics</td>\n",
       "      <td>mathematics socialsciences</td>\n",
       "      <td>it end school year routines run course student...</td>\n",
       "      <td>102.50</td>\n",
       "    </tr>\n",
       "    <tr>\n",
       "      <th>6</th>\n",
       "      <td>ca</td>\n",
       "      <td>mrs</td>\n",
       "      <td>grades_3_5</td>\n",
       "      <td>0</td>\n",
       "      <td>literacy_language math_science</td>\n",
       "      <td>literacy mathematics</td>\n",
       "      <td>sitting still overrated it makes sense opera m...</td>\n",
       "      <td>1418.08</td>\n",
       "    </tr>\n",
       "    <tr>\n",
       "      <th>7</th>\n",
       "      <td>ca</td>\n",
       "      <td>ms</td>\n",
       "      <td>grades_3_5</td>\n",
       "      <td>0</td>\n",
       "      <td>math_science history_civics</td>\n",
       "      <td>appliedsciences history_geography</td>\n",
       "      <td>it not enough read book write essay connect de...</td>\n",
       "      <td>495.29</td>\n",
       "    </tr>\n",
       "    <tr>\n",
       "      <th>8</th>\n",
       "      <td>ca</td>\n",
       "      <td>ms</td>\n",
       "      <td>grades_prek_2</td>\n",
       "      <td>127</td>\n",
       "      <td>literacy_language</td>\n",
       "      <td>esl literacy</td>\n",
       "      <td>never society rapidly changed technology invad...</td>\n",
       "      <td>299.99</td>\n",
       "    </tr>\n",
       "    <tr>\n",
       "      <th>9</th>\n",
       "      <td>hi</td>\n",
       "      <td>mrs</td>\n",
       "      <td>grades_3_5</td>\n",
       "      <td>41</td>\n",
       "      <td>math_science</td>\n",
       "      <td>appliedsciences mathematics</td>\n",
       "      <td>do remember first time saw star wars wall e ro...</td>\n",
       "      <td>479.94</td>\n",
       "    </tr>\n",
       "  </tbody>\n",
       "</table>\n",
       "</div>"
      ],
      "text/plain": [
       "  school_state teacher_prefix project_grade_category  \\\n",
       "0           ca            mrs          grades_prek_2   \n",
       "1           ut             ms             grades_3_5   \n",
       "2           ca            mrs          grades_prek_2   \n",
       "3           ga            mrs          grades_prek_2   \n",
       "4           wa            mrs             grades_3_5   \n",
       "5           ca            mrs             grades_3_5   \n",
       "6           ca            mrs             grades_3_5   \n",
       "7           ca             ms             grades_3_5   \n",
       "8           ca             ms          grades_prek_2   \n",
       "9           hi            mrs             grades_3_5   \n",
       "\n",
       "   teacher_number_of_previously_posted_projects  \\\n",
       "0                                            53   \n",
       "1                                             4   \n",
       "2                                            10   \n",
       "3                                             2   \n",
       "4                                             2   \n",
       "5                                             6   \n",
       "6                                             0   \n",
       "7                                             0   \n",
       "8                                           127   \n",
       "9                                            41   \n",
       "\n",
       "                 clean_categories                 clean_subcategories  \\\n",
       "0                    math_science  appliedsciences health_lifescience   \n",
       "1                    specialneeds                        specialneeds   \n",
       "2               literacy_language                            literacy   \n",
       "3                 appliedlearning                    earlydevelopment   \n",
       "4               literacy_language                            literacy   \n",
       "5     math_science history_civics          mathematics socialsciences   \n",
       "6  literacy_language math_science                literacy mathematics   \n",
       "7     math_science history_civics   appliedsciences history_geography   \n",
       "8               literacy_language                        esl literacy   \n",
       "9                    math_science         appliedsciences mathematics   \n",
       "\n",
       "                                               essay    price  \n",
       "0  i fortunate enough use fairy tale stem kits cl...   725.05  \n",
       "1  imagine 8 9 years old you third grade classroo...   213.03  \n",
       "2  having class 24 students comes diverse learner...   329.00  \n",
       "3  i recently read article giving students choice...   481.04  \n",
       "4  my students crave challenge eat obstacles brea...    17.74  \n",
       "5  it end school year routines run course student...   102.50  \n",
       "6  sitting still overrated it makes sense opera m...  1418.08  \n",
       "7  it not enough read book write essay connect de...   495.29  \n",
       "8  never society rapidly changed technology invad...   299.99  \n",
       "9  do remember first time saw star wars wall e ro...   479.94  "
      ]
     },
     "execution_count": 4,
     "metadata": {},
     "output_type": "execute_result"
    }
   ],
   "source": [
    "X.head(10)"
   ]
  },
  {
   "cell_type": "markdown",
   "metadata": {
    "colab_type": "text",
    "id": "WtVV13Fyb3dH"
   },
   "source": [
    "<h2>1.2 Splitting data into Train and cross validation(or test): Stratified Sampling</h2>"
   ]
  },
  {
   "cell_type": "code",
   "execution_count": 6,
   "metadata": {},
   "outputs": [],
   "source": [
    "from sklearn.model_selection import train_test_split\n",
    "X_train, X_test, y_train, y_test = train_test_split(X, y, test_size=0.33, stratify=y)\n",
    "X_train, X_cv, y_train, y_cv = train_test_split(X_train, y_train, test_size=0.33, stratify=y_train)"
   ]
  },
  {
   "cell_type": "markdown",
   "metadata": {
    "colab_type": "text",
    "id": "EnZwVNULb3dO"
   },
   "source": [
    "<h2>1.3 Make Data Model Ready: encoding eassay, and project_title</h2>"
   ]
  },
  {
   "cell_type": "markdown",
   "metadata": {},
   "source": [
    "## Encoding  Essay"
   ]
  },
  {
   "cell_type": "markdown",
   "metadata": {},
   "source": [
    "### BOW "
   ]
  },
  {
   "cell_type": "code",
   "execution_count": 8,
   "metadata": {},
   "outputs": [],
   "source": [
    "# Here I am vectorizing the essay column with the help of Bag of words"
   ]
  },
  {
   "cell_type": "code",
   "execution_count": 9,
   "metadata": {},
   "outputs": [
    {
     "name": "stdout",
     "output_type": "stream",
     "text": [
      "(31423, 8) (31423,)\n",
      "(15477, 8) (15477,)\n",
      "(23100, 8) (23100,)\n",
      "After vectorizer\n",
      "(31423, 5000) (31423,)\n",
      "(15477, 5000) (15477,)\n",
      "(23100, 5000) (23100,)\n"
     ]
    }
   ],
   "source": [
    "print(X_train.shape,y_train.shape)\n",
    "print(X_cv.shape,y_cv.shape)\n",
    "print(X_test.shape,y_test.shape)\n",
    "\n",
    "\n",
    "\n",
    "bow_vectorizer = CountVectorizer(min_df =10,ngram_range=(1,4),max_features=5000)\n",
    "bow_vectorizer.fit(X_train[\"essay\"].values)\n",
    "\n",
    "\n",
    "\n",
    "X_train_essay_bow = bow_vectorizer.transform(X_train[\"essay\"].values)\n",
    "X_cv_essay_bow = bow_vectorizer.transform(X_cv[\"essay\"].values)\n",
    "X_test_essay_bow = bow_vectorizer.transform(X_test[\"essay\"].values)\n",
    "\n",
    "print(\"After vectorizer\")\n",
    "\n",
    "print(X_train_essay_bow.shape, y_train.shape)\n",
    "print(X_cv_essay_bow.shape, y_cv.shape)\n",
    "print(X_test_essay_bow.shape, y_test.shape)\n",
    "\n",
    "essay_bow_feat = bow_vectorizer.get_feature_names()"
   ]
  },
  {
   "cell_type": "markdown",
   "metadata": {},
   "source": [
    "### TF-IDF"
   ]
  },
  {
   "cell_type": "code",
   "execution_count": 10,
   "metadata": {},
   "outputs": [],
   "source": [
    "#Vectorizing essay column by the help of TF-IDF"
   ]
  },
  {
   "cell_type": "code",
   "execution_count": 11,
   "metadata": {},
   "outputs": [
    {
     "name": "stdout",
     "output_type": "stream",
     "text": [
      "(31423, 8) (31423,)\n",
      "(15477, 8) (15477,)\n",
      "(23100, 8) (23100,)\n",
      "After vectorizer\n"
     ]
    }
   ],
   "source": [
    "print(X_train.shape,y_train.shape)\n",
    "print(X_cv.shape,y_cv.shape)\n",
    "print(X_test.shape,y_test.shape)\n",
    "\n",
    "\n",
    "\n",
    "idf_vectorizer = TfidfVectorizer(ngram_range=(1,4),min_df=10,max_features=5000)\n",
    "idf_vectorizer.fit(X_train[\"essay\"].values)\n",
    "\n",
    "\n",
    "\n",
    "X_train_essay_tfidf = idf_vectorizer.transform(X_train[\"essay\"].values)\n",
    "X_cv_essay_tfidf = idf_vectorizer.transform(X_cv[\"essay\"].values)\n",
    "X_test_essay_tfidf = idf_vectorizer.transform(X_test[\"essay\"].values)\n",
    "\n",
    "print(\"After vectorizer\")\n",
    "\n",
    "\n"
   ]
  },
  {
   "cell_type": "code",
   "execution_count": 12,
   "metadata": {
    "scrolled": true
   },
   "outputs": [
    {
     "name": "stdout",
     "output_type": "stream",
     "text": [
      "(31423, 5000) (31423,)\n",
      "(31423, 5000) (15477,)\n",
      "(31423, 5000) (23100,)\n"
     ]
    }
   ],
   "source": [
    "print(X_train_essay_tfidf.shape, y_train.shape)\n",
    "print(X_train_essay_tfidf.shape, y_cv.shape)\n",
    "print(X_train_essay_tfidf.shape, y_test.shape)"
   ]
  },
  {
   "cell_type": "code",
   "execution_count": 13,
   "metadata": {},
   "outputs": [],
   "source": [
    "essay_tfidf_feat = idf_vectorizer.get_feature_names()"
   ]
  },
  {
   "cell_type": "markdown",
   "metadata": {
    "colab_type": "text",
    "id": "bGy86kgHb3dX"
   },
   "source": [
    "<h2>1.4 Make Data Model Ready: encoding numerical, categorical features</h2>"
   ]
  },
  {
   "cell_type": "markdown",
   "metadata": {},
   "source": [
    "### One Hot encoding of categorical features \n"
   ]
  },
  {
   "cell_type": "code",
   "execution_count": 15,
   "metadata": {},
   "outputs": [],
   "source": [
    "def ohe(train,cv,test,col):\n",
    "    vectorizer = CountVectorizer() # Here I am using Bag of words , since it helps in one hot encoding\n",
    "    vectorizer.fit(train[col].values) # Fitting the CountVectorizer on the train data then transforming train,cv and test\n",
    "\n",
    "    X_train_col = vectorizer.transform(train[col].values) \n",
    "    X_cv_col = vectorizer.transform(cv[col].values)\n",
    "    X_test_col = vectorizer.transform(test[col].values)\n",
    "    \n",
    "    return X_train_col,X_cv_col,X_test_col,vectorizer.get_feature_names() \n",
    "    # return the 3 datasets along with features_names which will help us in finding the top features ahead \n",
    "\n"
   ]
  },
  {
   "cell_type": "code",
   "execution_count": 16,
   "metadata": {},
   "outputs": [],
   "source": [
    "# School State\n",
    "X_train_state_ohe,X_cv_state_ohe,X_test_state_ohe,state_feat = ohe(X_train,X_cv,X_test,\"school_state\")\n",
    "# Teacher Prefix\n",
    "X_train_pref_ohe,X_cv_pref_ohe,X_test_pref_ohe,pref_feat = ohe(X_train,X_cv,X_test,\"teacher_prefix\")\n",
    "# Project_grade_category\n",
    "X_train_pgc_ohe,X_cv_pgc_ohe,X_test_pgc_ohe,pgc_feat = ohe(X_train,X_cv,X_test,\"project_grade_category\")\n",
    "\n",
    "#clean_categories\n",
    "X_train_cc_ohe,X_cv_cc_ohe,X_test_cc_ohe,cc_feat = ohe(X_train,X_cv,X_test,\"clean_categories\")\n",
    "\n",
    "#clean_subcategories\n",
    "X_train_cs_ohe,X_cv_cs_ohe,X_test_cs_ohe,cs_feat = ohe(X_train,X_cv,X_test,\"clean_subcategories\")\n",
    "\n"
   ]
  },
  {
   "cell_type": "markdown",
   "metadata": {},
   "source": [
    "#### Preprocessing numerical features "
   ]
  },
  {
   "cell_type": "code",
   "execution_count": 92,
   "metadata": {},
   "outputs": [],
   "source": [
    "from sklearn.preprocessing import Normalizer\n",
    "def norm(train,cv,test,col):\n",
    "    normalizer = Normalizer()\n",
    "    normalizer.fit(X_train[col].values.reshape(1,-1))\n",
    "    X_train_col_norm = normalizer.transform(X_train[col].values.reshape(1,-1))\n",
    "    X_cv_col_norm = normalizer.transform(X_cv[col].values.reshape(1,-1))\n",
    "    X_test_col_norm = normalizer.transform(X_test[col].values.reshape(1,-1))\n",
    "\n",
    "    return X_train_col_norm.reshape(-1,1),X_cv_col_norm.reshape(-1,1),X_test_col_norm.reshape(-1,1)\n"
   ]
  },
  {
   "cell_type": "code",
   "execution_count": 93,
   "metadata": {},
   "outputs": [],
   "source": [
    "#Price\n",
    "X_train_price_norm,X_cv_price_norm,X_test_price_norm = norm(X_train,X_cv,X_test,\"price\")\n",
    "#teacher_number_of_previously_posted_projects\n",
    "X_train_pp_norm,X_cv_pp_norm,X_test_pp_norm = norm(X_train,X_cv,X_test,\"teacher_number_of_previously_posted_projects\")"
   ]
  },
  {
   "cell_type": "markdown",
   "metadata": {},
   "source": [
    "#### Concatinating all the features"
   ]
  },
  {
   "cell_type": "code",
   "execution_count": 87,
   "metadata": {},
   "outputs": [],
   "source": [
    "from scipy.sparse import hstack"
   ]
  },
  {
   "cell_type": "code",
   "execution_count": 88,
   "metadata": {},
   "outputs": [],
   "source": [
    "bow_features = essay_bow_feat+state_feat + pref_feat+pgc_feat+cc_feat+ cs_feat \n",
    "bow_features.extend([\"Price\",\"teacher_number_of_previously_posted_projects\"])"
   ]
  },
  {
   "cell_type": "code",
   "execution_count": 89,
   "metadata": {},
   "outputs": [],
   "source": [
    "tfidf_features = essay_tfidf_feat+state_feat + pref_feat+pgc_feat+cc_feat+ cs_feat \n",
    "tfidf_features.extend([\"Price\",\"teacher_number_of_previously_posted_projects\"])"
   ]
  },
  {
   "cell_type": "code",
   "execution_count": 90,
   "metadata": {},
   "outputs": [
    {
     "name": "stdout",
     "output_type": "stream",
     "text": [
      "total features with BOW essay 5101\n",
      "total features with TFIDF 5101\n"
     ]
    }
   ],
   "source": [
    "print(\"total features with BOW essay\", len(bow_features))\n",
    "print(\"total features with TFIDF\",len(tfidf_features))"
   ]
  },
  {
   "cell_type": "markdown",
   "metadata": {},
   "source": [
    "#### BOW Matrix"
   ]
  },
  {
   "cell_type": "code",
   "execution_count": 94,
   "metadata": {
    "scrolled": true
   },
   "outputs": [
    {
     "name": "stdout",
     "output_type": "stream",
     "text": [
      "Final Data matrix BOW\n",
      "(31423, 5101) (31423,)\n",
      "(15477, 5101) (15477,)\n",
      "(23100, 5101) (23100,)\n"
     ]
    }
   ],
   "source": [
    "# merge two sparse matrices: https://stackoverflow.com/a/19710648/4084039\n",
    "# Concatenating features with Bag of words of essay\n",
    "from scipy.sparse import hstack\n",
    "# BOW \n",
    "X_tr_1 = hstack((X_train_essay_bow,X_train_state_ohe,X_train_pref_ohe,X_train_pgc_ohe,X_train_cc_ohe,X_train_cs_ohe,X_train_price_norm,X_train_pp_norm)).tocsr()\n",
    "X_cv_1 = hstack((X_cv_essay_bow,X_cv_state_ohe,X_cv_pref_ohe,X_cv_pgc_ohe,X_cv_cc_ohe,X_cv_cs_ohe,X_cv_price_norm,X_cv_pp_norm)).tocsr()\n",
    "X_te_1 = hstack((X_test_essay_bow,X_test_state_ohe,X_test_pref_ohe,X_test_pgc_ohe,X_test_cc_ohe,X_test_cs_ohe,X_test_price_norm,X_test_pp_norm)).tocsr()\n",
    "\n",
    "print(\"Final Data matrix BOW\")\n",
    "print(X_tr_1.shape, y_train.shape)\n",
    "print(X_cv_1.shape, y_cv.shape)\n",
    "print(X_te_1.shape, y_test.shape)\n"
   ]
  },
  {
   "cell_type": "markdown",
   "metadata": {},
   "source": [
    "#### TF-IDF Matrix"
   ]
  },
  {
   "cell_type": "code",
   "execution_count": 95,
   "metadata": {
    "scrolled": true
   },
   "outputs": [
    {
     "name": "stdout",
     "output_type": "stream",
     "text": [
      "Final Data matrix TF-IDF\n",
      "(31423, 5101) (31423,)\n",
      "(15477, 5101) (15477,)\n",
      "(23100, 5101) (23100,)\n"
     ]
    }
   ],
   "source": [
    "#Concatenating with TF-IDF of essay\n",
    "X_tr_2 = hstack((X_train_essay_tfidf,X_train_state_ohe,X_train_pref_ohe,X_train_pgc_ohe,X_train_cc_ohe,X_train_cs_ohe,X_train_price_norm,X_train_pp_norm)).tocsr()\n",
    "X_cv_2 = hstack((X_cv_essay_tfidf,X_cv_state_ohe,X_cv_pref_ohe,X_cv_pgc_ohe,X_cv_cc_ohe,X_cv_cs_ohe,X_cv_price_norm,X_cv_pp_norm)).tocsr()\n",
    "X_te_2 = hstack((X_test_essay_tfidf,X_test_state_ohe,X_test_pref_ohe,X_test_pgc_ohe,X_test_cc_ohe,X_test_cs_ohe,X_test_price_norm,X_test_pp_norm)).tocsr()\n",
    "\n",
    "print(\"Final Data matrix TF-IDF\")\n",
    "print(X_tr_2.shape, y_train.shape)\n",
    "print(X_cv_2.shape, y_cv.shape)\n",
    "print(X_te_2.shape, y_test.shape)\n"
   ]
  },
  {
   "cell_type": "code",
   "execution_count": 97,
   "metadata": {},
   "outputs": [],
   "source": [
    "# We have to make a list of all the features if we have to find top features , it is important to order them accroding to our \n",
    "# the order of our sparse matrix \n",
    "# Our sparse matrix have 5101 columns \n",
    "# 5101(total cols) = 5000(essay bow features) + 99(categorical features) + 2 (price and previous project)\n",
    "# BOW\n",
    "bow_features = essay_bow_feat+state_feat + pref_feat+pgc_feat+cc_feat+ cs_feat \n",
    "bow_features.extend([\"Price\",\"teacher_number_of_previously_posted_projects\"])\n",
    "\n",
    "# TF-IDF\n",
    "# 5101(total cols) = 5000(essay tfidf features) + 99(categorical features) + 2 (price and previous project)\n",
    "\n",
    "tfidf_features = essay_tfidf_feat+state_feat + pref_feat+pgc_feat+cc_feat+ cs_feat \n",
    "tfidf_features.extend([\"Price\",\"teacher_number_of_previously_posted_projects\"])\n"
   ]
  },
  {
   "cell_type": "markdown",
   "metadata": {
    "colab_type": "text",
    "id": "yYHPYadYb3dh"
   },
   "source": [
    "<h2>1.5 Appling NB on different kind of featurization as mentioned in the instructions</h2>\n",
    "\n",
    "<br>Apply NB on different kind of featurization as mentioned in the instructions\n",
    "<br> For Every model that you work on make sure you do the step 2 and step 3 of instrucations"
   ]
  },
  {
   "cell_type": "code",
   "execution_count": 99,
   "metadata": {
    "scrolled": true
   },
   "outputs": [],
   "source": [
    "# Using Gridsearch\n",
    "\n",
    "import matplotlib.pyplot as plt\n",
    "from sklearn.naive_bayes import MultinomialNB\n",
    "from sklearn.metrics import roc_auc_score\n",
    "from sklearn.model_selection import GridSearchCV\n",
    "\n",
    "train_auc = []\n",
    "cv_auc = []\n",
    "parameters = {\"alpha\":[0.00001, 0.00005, 0.0001, 0.0005, 0.001, 0.005, 0.01, 0.05, 0.1, 0.5, 1, 5, 10, 50, 100, 500, 1000, 2500, 5000, 10000]}\n",
    "est = MultinomialNB(class_prior=[0.5,0.5])\n",
    "# Mentioning our estimator \n",
    "\n"
   ]
  },
  {
   "cell_type": "code",
   "execution_count": 100,
   "metadata": {},
   "outputs": [
    {
     "data": {
      "image/png": "[encoded data removed]",
      "text/plain": [
       "<Figure size 432x288 with 1 Axes>"
      ]
     },
     "metadata": {
      "needs_background": "light"
     },
     "output_type": "display_data"
    },
    {
     "data": {
      "text/html": [
       "<div>\n",
       "<style scoped>\n",
       "    .dataframe tbody tr th:only-of-type {\n",
       "        vertical-align: middle;\n",
       "    }\n",
       "\n",
       "    .dataframe tbody tr th {\n",
       "        vertical-align: top;\n",
       "    }\n",
       "\n",
       "    .dataframe thead th {\n",
       "        text-align: right;\n",
       "    }\n",
       "</style>\n",
       "<table border=\"1\" class=\"dataframe\">\n",
       "  <thead>\n",
       "    <tr style=\"text-align: right;\">\n",
       "      <th></th>\n",
       "      <th>mean_fit_time</th>\n",
       "      <th>std_fit_time</th>\n",
       "      <th>mean_score_time</th>\n",
       "      <th>std_score_time</th>\n",
       "      <th>param_alpha</th>\n",
       "      <th>params</th>\n",
       "      <th>split0_test_score</th>\n",
       "      <th>split1_test_score</th>\n",
       "      <th>split2_test_score</th>\n",
       "      <th>split3_test_score</th>\n",
       "      <th>...</th>\n",
       "      <th>split2_train_score</th>\n",
       "      <th>split3_train_score</th>\n",
       "      <th>split4_train_score</th>\n",
       "      <th>split5_train_score</th>\n",
       "      <th>split6_train_score</th>\n",
       "      <th>split7_train_score</th>\n",
       "      <th>split8_train_score</th>\n",
       "      <th>split9_train_score</th>\n",
       "      <th>mean_train_score</th>\n",
       "      <th>std_train_score</th>\n",
       "    </tr>\n",
       "  </thead>\n",
       "  <tbody>\n",
       "    <tr>\n",
       "      <th>0</th>\n",
       "      <td>0.091849</td>\n",
       "      <td>0.005826</td>\n",
       "      <td>0.007850</td>\n",
       "      <td>0.001846</td>\n",
       "      <td>1e-05</td>\n",
       "      <td>{'alpha': 1e-05}</td>\n",
       "      <td>0.693635</td>\n",
       "      <td>0.696059</td>\n",
       "      <td>0.700842</td>\n",
       "      <td>0.694614</td>\n",
       "      <td>...</td>\n",
       "      <td>0.744551</td>\n",
       "      <td>0.743913</td>\n",
       "      <td>0.745900</td>\n",
       "      <td>0.741532</td>\n",
       "      <td>0.744672</td>\n",
       "      <td>0.743547</td>\n",
       "      <td>0.743680</td>\n",
       "      <td>0.745448</td>\n",
       "      <td>0.743876</td>\n",
       "      <td>0.00131</td>\n",
       "    </tr>\n",
       "    <tr>\n",
       "      <th>1</th>\n",
       "      <td>0.089641</td>\n",
       "      <td>0.005909</td>\n",
       "      <td>0.007428</td>\n",
       "      <td>0.001718</td>\n",
       "      <td>5e-05</td>\n",
       "      <td>{'alpha': 5e-05}</td>\n",
       "      <td>0.693635</td>\n",
       "      <td>0.696059</td>\n",
       "      <td>0.700843</td>\n",
       "      <td>0.694614</td>\n",
       "      <td>...</td>\n",
       "      <td>0.744551</td>\n",
       "      <td>0.743913</td>\n",
       "      <td>0.745900</td>\n",
       "      <td>0.741532</td>\n",
       "      <td>0.744672</td>\n",
       "      <td>0.743547</td>\n",
       "      <td>0.743680</td>\n",
       "      <td>0.745448</td>\n",
       "      <td>0.743876</td>\n",
       "      <td>0.00131</td>\n",
       "    </tr>\n",
       "    <tr>\n",
       "      <th>2</th>\n",
       "      <td>0.091127</td>\n",
       "      <td>0.005255</td>\n",
       "      <td>0.007699</td>\n",
       "      <td>0.001826</td>\n",
       "      <td>0.0001</td>\n",
       "      <td>{'alpha': 0.0001}</td>\n",
       "      <td>0.693635</td>\n",
       "      <td>0.696058</td>\n",
       "      <td>0.700843</td>\n",
       "      <td>0.694614</td>\n",
       "      <td>...</td>\n",
       "      <td>0.744551</td>\n",
       "      <td>0.743913</td>\n",
       "      <td>0.745900</td>\n",
       "      <td>0.741532</td>\n",
       "      <td>0.744672</td>\n",
       "      <td>0.743547</td>\n",
       "      <td>0.743680</td>\n",
       "      <td>0.745448</td>\n",
       "      <td>0.743876</td>\n",
       "      <td>0.00131</td>\n",
       "    </tr>\n",
       "    <tr>\n",
       "      <th>3</th>\n",
       "      <td>0.091888</td>\n",
       "      <td>0.004882</td>\n",
       "      <td>0.008217</td>\n",
       "      <td>0.001737</td>\n",
       "      <td>0.0005</td>\n",
       "      <td>{'alpha': 0.0005}</td>\n",
       "      <td>0.693634</td>\n",
       "      <td>0.696058</td>\n",
       "      <td>0.700843</td>\n",
       "      <td>0.694614</td>\n",
       "      <td>...</td>\n",
       "      <td>0.744550</td>\n",
       "      <td>0.743912</td>\n",
       "      <td>0.745899</td>\n",
       "      <td>0.741531</td>\n",
       "      <td>0.744671</td>\n",
       "      <td>0.743546</td>\n",
       "      <td>0.743679</td>\n",
       "      <td>0.745448</td>\n",
       "      <td>0.743875</td>\n",
       "      <td>0.00131</td>\n",
       "    </tr>\n",
       "    <tr>\n",
       "      <th>4</th>\n",
       "      <td>0.090499</td>\n",
       "      <td>0.006418</td>\n",
       "      <td>0.009045</td>\n",
       "      <td>0.002168</td>\n",
       "      <td>0.001</td>\n",
       "      <td>{'alpha': 0.001}</td>\n",
       "      <td>0.693633</td>\n",
       "      <td>0.696057</td>\n",
       "      <td>0.700845</td>\n",
       "      <td>0.694610</td>\n",
       "      <td>...</td>\n",
       "      <td>0.744549</td>\n",
       "      <td>0.743912</td>\n",
       "      <td>0.745898</td>\n",
       "      <td>0.741531</td>\n",
       "      <td>0.744671</td>\n",
       "      <td>0.743545</td>\n",
       "      <td>0.743679</td>\n",
       "      <td>0.745447</td>\n",
       "      <td>0.743875</td>\n",
       "      <td>0.00131</td>\n",
       "    </tr>\n",
       "  </tbody>\n",
       "</table>\n",
       "<p>5 rows × 31 columns</p>\n",
       "</div>"
      ],
      "text/plain": [
       "   mean_fit_time  std_fit_time  mean_score_time  std_score_time param_alpha  \\\n",
       "0       0.091849      0.005826         0.007850        0.001846       1e-05   \n",
       "1       0.089641      0.005909         0.007428        0.001718       5e-05   \n",
       "2       0.091127      0.005255         0.007699        0.001826      0.0001   \n",
       "3       0.091888      0.004882         0.008217        0.001737      0.0005   \n",
       "4       0.090499      0.006418         0.009045        0.002168       0.001   \n",
       "\n",
       "              params  split0_test_score  split1_test_score  split2_test_score  \\\n",
       "0   {'alpha': 1e-05}           0.693635           0.696059           0.700842   \n",
       "1   {'alpha': 5e-05}           0.693635           0.696059           0.700843   \n",
       "2  {'alpha': 0.0001}           0.693635           0.696058           0.700843   \n",
       "3  {'alpha': 0.0005}           0.693634           0.696058           0.700843   \n",
       "4   {'alpha': 0.001}           0.693633           0.696057           0.700845   \n",
       "\n",
       "   split3_test_score  ...  split2_train_score  split3_train_score  \\\n",
       "0           0.694614  ...            0.744551            0.743913   \n",
       "1           0.694614  ...            0.744551            0.743913   \n",
       "2           0.694614  ...            0.744551            0.743913   \n",
       "3           0.694614  ...            0.744550            0.743912   \n",
       "4           0.694610  ...            0.744549            0.743912   \n",
       "\n",
       "   split4_train_score  split5_train_score  split6_train_score  \\\n",
       "0            0.745900            0.741532            0.744672   \n",
       "1            0.745900            0.741532            0.744672   \n",
       "2            0.745900            0.741532            0.744672   \n",
       "3            0.745899            0.741531            0.744671   \n",
       "4            0.745898            0.741531            0.744671   \n",
       "\n",
       "   split7_train_score  split8_train_score  split9_train_score  \\\n",
       "0            0.743547            0.743680            0.745448   \n",
       "1            0.743547            0.743680            0.745448   \n",
       "2            0.743547            0.743680            0.745448   \n",
       "3            0.743546            0.743679            0.745448   \n",
       "4            0.743545            0.743679            0.745447   \n",
       "\n",
       "   mean_train_score  std_train_score  \n",
       "0          0.743876          0.00131  \n",
       "1          0.743876          0.00131  \n",
       "2          0.743876          0.00131  \n",
       "3          0.743875          0.00131  \n",
       "4          0.743875          0.00131  \n",
       "\n",
       "[5 rows x 31 columns]"
      ]
     },
     "execution_count": 100,
     "metadata": {},
     "output_type": "execute_result"
    }
   ],
   "source": [
    "## BOW \n",
    "clf_1 = GridSearchCV(est,parameters,cv=10,scoring = \"roc_auc\",return_train_score= True)\n",
    "clf_1.fit(X_tr_1,y_train)\n",
    "\n",
    "results = pd.DataFrame.from_dict(clf_1.cv_results_)\n",
    "results = results.sort_values([\"param_alpha\"])\n",
    "\n",
    "train_auc= results['mean_train_score']\n",
    "train_auc_std= results['std_train_score']\n",
    "cv_auc = results['mean_test_score'] \n",
    "cv_auc_std= results['std_test_score']\n",
    "alpha =  results['param_alpha']\n",
    "alpha = np.log(alpha.astype(\"float\"))\n",
    "\n",
    "plt.plot(alpha, train_auc, label='Train AUC')\n",
    "# this code is copied from here: https://stackoverflow.com/a/48803361/4084039\n",
    "# plt.gca().fill_between(K, train_auc - train_auc_std,train_auc + train_auc_std,alpha=0.2,color='darkblue')\n",
    "\n",
    "plt.plot(alpha, cv_auc, label='CV AUC')\n",
    "# this code is copied from here: https://stackoverflow.com/a/48803361/4084039\n",
    "# plt.gca().fill_between(K, cv_auc - cv_auc_std,cv_auc + cv_auc_std,alpha=0.2,color='darkorange')\n",
    "\n",
    "plt.scatter(alpha, train_auc, label='Train AUC points')\n",
    "plt.scatter(alpha, cv_auc, label='CV AUC points')\n",
    "\n",
    "\n",
    "plt.legend()\n",
    "plt.xlabel(\"alpha: hyperparameter\")\n",
    "plt.ylabel(\"AUC\")\n",
    "plt.title(\"Hyper parameter Vs AUC plot (Bag of words)\")\n",
    "plt.grid()\n",
    "plt.show()\n",
    "\n",
    "results.head()"
   ]
  },
  {
   "cell_type": "code",
   "execution_count": 102,
   "metadata": {
    "scrolled": true
   },
   "outputs": [
    {
     "data": {
      "image/png": "[encoded data removed]",
      "text/plain": [
       "<Figure size 432x288 with 1 Axes>"
      ]
     },
     "metadata": {
      "needs_background": "light"
     },
     "output_type": "display_data"
    },
    {
     "data": {
      "text/html": [
       "<div>\n",
       "<style scoped>\n",
       "    .dataframe tbody tr th:only-of-type {\n",
       "        vertical-align: middle;\n",
       "    }\n",
       "\n",
       "    .dataframe tbody tr th {\n",
       "        vertical-align: top;\n",
       "    }\n",
       "\n",
       "    .dataframe thead th {\n",
       "        text-align: right;\n",
       "    }\n",
       "</style>\n",
       "<table border=\"1\" class=\"dataframe\">\n",
       "  <thead>\n",
       "    <tr style=\"text-align: right;\">\n",
       "      <th></th>\n",
       "      <th>mean_fit_time</th>\n",
       "      <th>std_fit_time</th>\n",
       "      <th>mean_score_time</th>\n",
       "      <th>std_score_time</th>\n",
       "      <th>param_alpha</th>\n",
       "      <th>params</th>\n",
       "      <th>split0_test_score</th>\n",
       "      <th>split1_test_score</th>\n",
       "      <th>split2_test_score</th>\n",
       "      <th>split3_test_score</th>\n",
       "      <th>...</th>\n",
       "      <th>split2_train_score</th>\n",
       "      <th>split3_train_score</th>\n",
       "      <th>split4_train_score</th>\n",
       "      <th>split5_train_score</th>\n",
       "      <th>split6_train_score</th>\n",
       "      <th>split7_train_score</th>\n",
       "      <th>split8_train_score</th>\n",
       "      <th>split9_train_score</th>\n",
       "      <th>mean_train_score</th>\n",
       "      <th>std_train_score</th>\n",
       "    </tr>\n",
       "  </thead>\n",
       "  <tbody>\n",
       "    <tr>\n",
       "      <th>0</th>\n",
       "      <td>0.090343</td>\n",
       "      <td>0.004610</td>\n",
       "      <td>0.009035</td>\n",
       "      <td>0.001943</td>\n",
       "      <td>1e-05</td>\n",
       "      <td>{'alpha': 1e-05}</td>\n",
       "      <td>0.675069</td>\n",
       "      <td>0.675830</td>\n",
       "      <td>0.671004</td>\n",
       "      <td>0.673519</td>\n",
       "      <td>...</td>\n",
       "      <td>0.726974</td>\n",
       "      <td>0.727949</td>\n",
       "      <td>0.729355</td>\n",
       "      <td>0.726916</td>\n",
       "      <td>0.729448</td>\n",
       "      <td>0.727230</td>\n",
       "      <td>0.727609</td>\n",
       "      <td>0.730249</td>\n",
       "      <td>0.727980</td>\n",
       "      <td>0.001247</td>\n",
       "    </tr>\n",
       "    <tr>\n",
       "      <th>1</th>\n",
       "      <td>0.097969</td>\n",
       "      <td>0.002983</td>\n",
       "      <td>0.008360</td>\n",
       "      <td>0.001322</td>\n",
       "      <td>5e-05</td>\n",
       "      <td>{'alpha': 5e-05}</td>\n",
       "      <td>0.675069</td>\n",
       "      <td>0.675828</td>\n",
       "      <td>0.671005</td>\n",
       "      <td>0.673517</td>\n",
       "      <td>...</td>\n",
       "      <td>0.726974</td>\n",
       "      <td>0.727948</td>\n",
       "      <td>0.729354</td>\n",
       "      <td>0.726915</td>\n",
       "      <td>0.729447</td>\n",
       "      <td>0.727229</td>\n",
       "      <td>0.727608</td>\n",
       "      <td>0.730248</td>\n",
       "      <td>0.727979</td>\n",
       "      <td>0.001247</td>\n",
       "    </tr>\n",
       "    <tr>\n",
       "      <th>2</th>\n",
       "      <td>0.092999</td>\n",
       "      <td>0.003511</td>\n",
       "      <td>0.007412</td>\n",
       "      <td>0.000836</td>\n",
       "      <td>0.0001</td>\n",
       "      <td>{'alpha': 0.0001}</td>\n",
       "      <td>0.675069</td>\n",
       "      <td>0.675829</td>\n",
       "      <td>0.671004</td>\n",
       "      <td>0.673516</td>\n",
       "      <td>...</td>\n",
       "      <td>0.726973</td>\n",
       "      <td>0.727948</td>\n",
       "      <td>0.729353</td>\n",
       "      <td>0.726914</td>\n",
       "      <td>0.729446</td>\n",
       "      <td>0.727228</td>\n",
       "      <td>0.727607</td>\n",
       "      <td>0.730247</td>\n",
       "      <td>0.727978</td>\n",
       "      <td>0.001247</td>\n",
       "    </tr>\n",
       "    <tr>\n",
       "      <th>3</th>\n",
       "      <td>0.086331</td>\n",
       "      <td>0.011371</td>\n",
       "      <td>0.007531</td>\n",
       "      <td>0.001497</td>\n",
       "      <td>0.0005</td>\n",
       "      <td>{'alpha': 0.0005}</td>\n",
       "      <td>0.675060</td>\n",
       "      <td>0.675825</td>\n",
       "      <td>0.671007</td>\n",
       "      <td>0.673502</td>\n",
       "      <td>...</td>\n",
       "      <td>0.726967</td>\n",
       "      <td>0.727940</td>\n",
       "      <td>0.729347</td>\n",
       "      <td>0.726907</td>\n",
       "      <td>0.729440</td>\n",
       "      <td>0.727221</td>\n",
       "      <td>0.727601</td>\n",
       "      <td>0.730240</td>\n",
       "      <td>0.727971</td>\n",
       "      <td>0.001247</td>\n",
       "    </tr>\n",
       "    <tr>\n",
       "      <th>4</th>\n",
       "      <td>0.094185</td>\n",
       "      <td>0.004916</td>\n",
       "      <td>0.008767</td>\n",
       "      <td>0.001753</td>\n",
       "      <td>0.001</td>\n",
       "      <td>{'alpha': 0.001}</td>\n",
       "      <td>0.675059</td>\n",
       "      <td>0.675823</td>\n",
       "      <td>0.670999</td>\n",
       "      <td>0.673491</td>\n",
       "      <td>...</td>\n",
       "      <td>0.726960</td>\n",
       "      <td>0.727931</td>\n",
       "      <td>0.729339</td>\n",
       "      <td>0.726898</td>\n",
       "      <td>0.729433</td>\n",
       "      <td>0.727213</td>\n",
       "      <td>0.727593</td>\n",
       "      <td>0.730232</td>\n",
       "      <td>0.727963</td>\n",
       "      <td>0.001247</td>\n",
       "    </tr>\n",
       "  </tbody>\n",
       "</table>\n",
       "<p>5 rows × 31 columns</p>\n",
       "</div>"
      ],
      "text/plain": [
       "   mean_fit_time  std_fit_time  mean_score_time  std_score_time param_alpha  \\\n",
       "0       0.090343      0.004610         0.009035        0.001943       1e-05   \n",
       "1       0.097969      0.002983         0.008360        0.001322       5e-05   \n",
       "2       0.092999      0.003511         0.007412        0.000836      0.0001   \n",
       "3       0.086331      0.011371         0.007531        0.001497      0.0005   \n",
       "4       0.094185      0.004916         0.008767        0.001753       0.001   \n",
       "\n",
       "              params  split0_test_score  split1_test_score  split2_test_score  \\\n",
       "0   {'alpha': 1e-05}           0.675069           0.675830           0.671004   \n",
       "1   {'alpha': 5e-05}           0.675069           0.675828           0.671005   \n",
       "2  {'alpha': 0.0001}           0.675069           0.675829           0.671004   \n",
       "3  {'alpha': 0.0005}           0.675060           0.675825           0.671007   \n",
       "4   {'alpha': 0.001}           0.675059           0.675823           0.670999   \n",
       "\n",
       "   split3_test_score  ...  split2_train_score  split3_train_score  \\\n",
       "0           0.673519  ...            0.726974            0.727949   \n",
       "1           0.673517  ...            0.726974            0.727948   \n",
       "2           0.673516  ...            0.726973            0.727948   \n",
       "3           0.673502  ...            0.726967            0.727940   \n",
       "4           0.673491  ...            0.726960            0.727931   \n",
       "\n",
       "   split4_train_score  split5_train_score  split6_train_score  \\\n",
       "0            0.729355            0.726916            0.729448   \n",
       "1            0.729354            0.726915            0.729447   \n",
       "2            0.729353            0.726914            0.729446   \n",
       "3            0.729347            0.726907            0.729440   \n",
       "4            0.729339            0.726898            0.729433   \n",
       "\n",
       "   split7_train_score  split8_train_score  split9_train_score  \\\n",
       "0            0.727230            0.727609            0.730249   \n",
       "1            0.727229            0.727608            0.730248   \n",
       "2            0.727228            0.727607            0.730247   \n",
       "3            0.727221            0.727601            0.730240   \n",
       "4            0.727213            0.727593            0.730232   \n",
       "\n",
       "   mean_train_score  std_train_score  \n",
       "0          0.727980         0.001247  \n",
       "1          0.727979         0.001247  \n",
       "2          0.727978         0.001247  \n",
       "3          0.727971         0.001247  \n",
       "4          0.727963         0.001247  \n",
       "\n",
       "[5 rows x 31 columns]"
      ]
     },
     "execution_count": 102,
     "metadata": {},
     "output_type": "execute_result"
    }
   ],
   "source": [
    "# Tf-IDF\n",
    "clf_2 = GridSearchCV(est,parameters,cv=10,scoring = \"roc_auc\",return_train_score= True)\n",
    "clf_2.fit(X_tr_2,y_train)\n",
    "\n",
    "results = pd.DataFrame.from_dict(clf_2.cv_results_)\n",
    "results = results.sort_values([\"param_alpha\"])\n",
    "\n",
    "train_auc= results['mean_train_score']\n",
    "train_auc_std= results['std_train_score']\n",
    "cv_auc = results['mean_test_score'] \n",
    "cv_auc_std= results['std_test_score']\n",
    "alpha =  results['param_alpha']\n",
    "alpha = np.log(alpha.astype(\"float\"))\n",
    "\n",
    "plt.plot(alpha, train_auc, label='Train AUC')\n",
    "# this code is copied from here: https://stackoverflow.com/a/48803361/4084039\n",
    "# plt.gca().fill_between(K, train_auc - train_auc_std,train_auc + train_auc_std,alpha=0.2,color='darkblue')\n",
    "\n",
    "plt.plot(alpha, cv_auc, label='CV AUC')\n",
    "# this code is copied from here: https://stackoverflow.com/a/48803361/4084039\n",
    "# plt.gca().fill_between(K, cv_auc - cv_auc_std,cv_auc + cv_auc_std,alpha=0.2,color='darkorange')\n",
    "\n",
    "plt.scatter(alpha, train_auc, label='Train AUC points')\n",
    "plt.scatter(alpha, cv_auc, label='CV AUC points')\n",
    "\n",
    "\n",
    "plt.legend()\n",
    "plt.xlabel(\"alpha: hyperparameter\")\n",
    "plt.ylabel(\"AUC\")\n",
    "plt.title(\"Hyper parameter Vs AUC plot (TF-IDF)\")\n",
    "plt.grid()\n",
    "plt.show()\n",
    "\n",
    "results.head()"
   ]
  },
  {
   "cell_type": "markdown",
   "metadata": {
    "colab_type": "text",
    "id": "lS9hIHdib3dp"
   },
   "source": [
    "<h1>3. Summary</h1>\n",
    "\n",
    "<br> as mentioned in the step 5 of instructions"
   ]
  },
  {
   "cell_type": "code",
   "execution_count": 103,
   "metadata": {},
   "outputs": [],
   "source": [
    "# Best alpha of BOW\n",
    "best_alpha_1 = clf_1.best_estimator_.alpha\n",
    "\n",
    "# Best alpha of TF-IDF\n",
    "best_alpha_2 = clf_2.best_estimator_.alpha"
   ]
  },
  {
   "cell_type": "code",
   "execution_count": 104,
   "metadata": {},
   "outputs": [],
   "source": [
    "from sklearn.metrics import roc_curve , auc \n",
    "\n",
    "est_1 = MultinomialNB(alpha= best_alpha_1,class_prior=[0.5,0.5])\n",
    "\n",
    "# est_1 = classifier trained on BOW essay data\n",
    "est_1.fit(X_tr_1,y_train)\n",
    "\n",
    "y_train_pred_bow = est_1.predict(X_tr_1)\n",
    "y_test_pred_bow = est_1.predict(X_te_1)\n",
    "\n"
   ]
  },
  {
   "cell_type": "code",
   "execution_count": 105,
   "metadata": {},
   "outputs": [],
   "source": [
    "#TFIDF\n",
    "#est_2 = classifier trained on TF-IDF essay data\n",
    "est_2 = MultinomialNB(alpha  = best_alpha_2,class_prior=[0.5,0.5])\n",
    "\n",
    "est_2.fit(X_tr_2,y_train)\n",
    "\n",
    "y_train_pred_tfidf = est_2.predict(X_tr_2)\n",
    "y_test_pred_tfidf = est_2.predict(X_te_2)\n",
    "\n"
   ]
  },
  {
   "cell_type": "code",
   "execution_count": 106,
   "metadata": {},
   "outputs": [],
   "source": [
    "y_train_pred_bow_pp = est_1.predict_proba(X_tr_1)[:,1]\n",
    "y_test_pred_bow_pp = est_1.predict_proba(X_te_1)[:,1]\n",
    "\n",
    "y_train_pred_tfidf_pp = est_2.predict_proba(X_tr_2)[:,1]\n",
    "y_test_pred_tfidf_pp= est_2.predict_proba(X_te_2)[:,1]"
   ]
  },
  {
   "cell_type": "markdown",
   "metadata": {},
   "source": [
    "### ROC curve \n",
    "\n"
   ]
  },
  {
   "cell_type": "code",
   "execution_count": 107,
   "metadata": {},
   "outputs": [],
   "source": [
    "from sklearn.metrics import roc_curve,auc"
   ]
  },
  {
   "cell_type": "code",
   "execution_count": 108,
   "metadata": {
    "scrolled": true
   },
   "outputs": [
    {
     "data": {
      "image/png": "[encoded data removed]",
      "text/plain": [
       "<Figure size 432x288 with 1 Axes>"
      ]
     },
     "metadata": {
      "needs_background": "light"
     },
     "output_type": "display_data"
    }
   ],
   "source": [
    "fpr_tr,tpr_tr,__tr = roc_curve(y_train,y_train_pred_bow_pp)\n",
    "fpr_te,tpr_te,__te = roc_curve(y_test,y_test_pred_bow_pp)\n",
    "bow_test_auc = auc(fpr_tr,tpr_tr)\n",
    "\n",
    "plt.title(\"ROC Curve of Test and Train BOW\" )\n",
    "plt.plot(fpr_tr,tpr_tr,label = \"train AUC score\" + str(auc(fpr_tr,tpr_tr)))\n",
    "plt.plot(fpr_te,tpr_te,label = \"test AUC score\"+ str(auc(fpr_te,tpr_te)))\n",
    "plt.legend()\n",
    "plt.plot([1,0],[1,0],\"r--\")\n",
    "plt.xlabel(\"FPR\")\n",
    "plt.ylabel(\"TPR\")\n",
    "plt.show()\n",
    "\n"
   ]
  },
  {
   "cell_type": "code",
   "execution_count": 109,
   "metadata": {},
   "outputs": [
    {
     "data": {
      "image/png": "[encoded data removed]",
      "text/plain": [
       "<Figure size 432x288 with 1 Axes>"
      ]
     },
     "metadata": {
      "needs_background": "light"
     },
     "output_type": "display_data"
    }
   ],
   "source": [
    "fpr_tr,tpr_tr,__tr = roc_curve(y_train,y_train_pred_tfidf_pp)\n",
    "fpr_te,tpr_te,__te = roc_curve(y_test,y_test_pred_tfidf_pp)\n",
    "\n",
    "tfidf_test_auc = auc(fpr_tr,tpr_tr)\n",
    "plt.title(\"ROC Curve of Test and Train TF-IDF\" )\n",
    "plt.plot(fpr_tr,tpr_tr,label = \"train AUC score\" + str(auc(fpr_tr,tpr_tr)))\n",
    "plt.plot(fpr_te,tpr_te,label = \"test AUC score\"+ str(auc(fpr_te,tpr_te)))\n",
    "plt.legend()\n",
    "plt.plot([1,0],[1,0],\"r--\")\n",
    "plt.xlabel(\"FPR\")\n",
    "plt.ylabel(\"TPR\")\n",
    "plt.show()\n",
    "\n"
   ]
  },
  {
   "cell_type": "markdown",
   "metadata": {},
   "source": [
    "# Confusion Matrix"
   ]
  },
  {
   "cell_type": "code",
   "execution_count": 110,
   "metadata": {},
   "outputs": [],
   "source": [
    "from sklearn.metrics import confusion_matrix"
   ]
  },
  {
   "cell_type": "code",
   "execution_count": 111,
   "metadata": {
    "scrolled": true
   },
   "outputs": [
    {
     "data": {
      "image/png": "[encoded data removed]",
      "text/plain": [
       "<Figure size 360x360 with 2 Axes>"
      ]
     },
     "metadata": {
      "needs_background": "light"
     },
     "output_type": "display_data"
    },
    {
     "data": {
      "image/png": "[encoded data removed]",
      "text/plain": [
       "<Figure size 360x360 with 2 Axes>"
      ]
     },
     "metadata": {
      "needs_background": "light"
     },
     "output_type": "display_data"
    }
   ],
   "source": [
    "\n",
    "array = confusion_matrix(y_test,y_test_pred_bow)\n",
    "df_cm = pd.DataFrame(array, range(2), range(2))\n",
    "plt.figure(figsize=(5,5))\n",
    "plt.title(\"Confusion Matrix of BOW\")\n",
    "sns.heatmap(df_cm,annot =True,fmt = \"g\") # font size\n",
    "\n",
    "plt.show()\n",
    "\n",
    "\n",
    "array = confusion_matrix(y_test,y_test_pred_tfidf)\n",
    "df_cm = pd.DataFrame(array, range(2), range(2))\n",
    "plt.figure(figsize=(5,5))\n",
    "plt.title(\"Confusion Matrix of TF-IDF\")\n",
    "sns.heatmap(df_cm,annot =True,fmt = \"g\") # font size\n",
    "\n",
    "plt.show()"
   ]
  },
  {
   "cell_type": "markdown",
   "metadata": {},
   "source": [
    "# Top 20 features"
   ]
  },
  {
   "cell_type": "code",
   "execution_count": 141,
   "metadata": {},
   "outputs": [],
   "source": [
    "neg_b = est_1.feature_log_prob_[0,:].argsort()[::-1]\n",
    "pos_b = est_1.feature_log_prob_[1,:].argsort()[::-1]\n",
    "\n",
    "#TF-IDF\n",
    "neg_t = est_2.feature_log_prob_[0,:].argsort()[::-1]\n",
    "pos_t = est_2.feature_log_prob_[1,:].argsort()[::-1]"
   ]
  },
  {
   "cell_type": "code",
   "execution_count": 142,
   "metadata": {
    "scrolled": true
   },
   "outputs": [
    {
     "name": "stdout",
     "output_type": "stream",
     "text": [
      "Top 20 Features of Approved Projects and Not Approved projects (BOW)\n",
      "Not Approved Projects\n",
      "['students' 'school' 'learning' 'my' 'classroom' 'not' 'learn' 'they'\n",
      " 'the' 'help']\n",
      "Approved Projects\n",
      "['students' 'school' 'my' 'learning' 'classroom' 'the' 'not' 'they'\n",
      " 'my students' 'learn']\n",
      "##################################################\n",
      "Top 20 Features of Approved Projects and Not Approved projects (tfidf)\n",
      "Not Approved Projects\n",
      "['mrs' 'literacy_language' 'grades_prek_2' 'math_science' 'ms'\n",
      " 'grades_3_5' 'literacy' 'mathematics' 'literature_writing' 'grades_6_8']\n",
      "Approved Projects\n",
      "['mrs' 'literacy_language' 'grades_prek_2' 'math_science' 'ms'\n",
      " 'grades_3_5' 'literacy' 'mathematics' 'literature_writing'\n",
      " 'health_sports']\n"
     ]
    }
   ],
   "source": [
    "print(\"Top 20 Features of Approved Projects and Not Approved projects (BOW)\")\n",
    "print(\"Not Approved Projects\")\n",
    "print(np.take(bow_features, neg_b[:10]))\n",
    "print(\"Approved Projects\")\n",
    "print(np.take(bow_features, pos_b[:10]))\n",
    "\n",
    "print(\"#\"*50)\n",
    "\n",
    "print(\"Top 20 Features of Approved Projects and Not Approved projects (tfidf)\")\n",
    "\n",
    "print(\"Not Approved Projects\")\n",
    "print(np.take(tfidf_features, neg_t[:10]))\n",
    "print(\"Approved Projects\")\n",
    "print(np.take(tfidf_features, pos_t[:10]))"
   ]
  },
  {
   "cell_type": "markdown",
   "metadata": {},
   "source": [
    "### Summary"
   ]
  },
  {
   "cell_type": "code",
   "execution_count": 118,
   "metadata": {},
   "outputs": [
    {
     "name": "stdout",
     "output_type": "stream",
     "text": [
      "+------------+-------------+-----------------------+--------------------+\n",
      "| Vectorizer |    Model    | Alpha:Hyper Parameter |      Test-AUC      |\n",
      "+------------+-------------+-----------------------+--------------------+\n",
      "|    BOW     | Naive Bayes |         1e-05         | 0.7391361406003414 |\n",
      "|   TFIDF    | Naive Bayes |         5e-05         | 0.7233254695385676 |\n",
      "+------------+-------------+-----------------------+--------------------+\n"
     ]
    }
   ],
   "source": [
    "from prettytable import PrettyTable\n",
    "\n",
    "\n",
    "pt = PrettyTable()\n",
    "pt.field_names = [\"Vectorizer\", \"Model\", \"Alpha:Hyper Parameter\", \"Test-AUC\"]\n",
    "\n",
    "pt.add_row([\"BOW\", \"Naive Bayes\", best_alpha_1),bow_test_auc ])\n",
    "pt.add_row([\"TFIDF\", \"Naive Bayes\", float(best_alpha_2), tfidf_test_auc])\n",
    "\n",
    "print(pt)"
   ]
  }
 ],
 "metadata": {
  "colab": {
   "collapsed_sections": [],
   "name": "6_Assignment_NB_Instructions.ipynb",
   "provenance": [],
   "version": "0.3.2"
  },
  "kernelspec": {
   "display_name": "Python 3 (ipykernel)",
   "language": "python",
   "name": "python3"
  },
  "language_info": {
   "codemirror_mode": {
    "name": "ipython",
    "version": 3
   },
   "file_extension": ".py",
   "mimetype": "text/x-python",
   "name": "python",
   "nbconvert_exporter": "python",
   "pygments_lexer": "ipython3",
   "version": "3.8.7"
  }
 },
 "nbformat": 4,
 "nbformat_minor": 1
}
